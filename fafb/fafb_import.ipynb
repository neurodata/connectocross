version https://git-lfs.github.com/spec/v1
oid sha256:e21daed298639202494ef77a6e8bc6cf9d8e01b1aef081af973760b1892a2c48
size 4303
{
 "metadata": {
  "language_info": {
   "codemirror_mode": {
    "name": "ipython",
    "version": 3
   },
   "file_extension": ".py",
   "mimetype": "text/x-python",
   "name": "python",
   "nbconvert_exporter": "python",
   "pygments_lexer": "ipython3",
   "version": "3.8.8"
  },
  "orig_nbformat": 2,
  "kernelspec": {
   "name": "python388jvsc74a57bd0edff9992f5981549ce355dfda8751582e04e29f2b676027b27bc02fe09043810",
   "display_name": "Python 3.8.8 64-bit ('Fafb': conda)"
  }
 },
 "nbformat": 4,
 "nbformat_minor": 2,
 "cells": [
  {
   "source": [
    "# Importing the Female Adult Fly Brain (FAFB) Connectome"
   ],
   "cell_type": "markdown",
   "metadata": {}
  },
  {
   "cell_type": "code",
   "execution_count": 1,
   "metadata": {},
   "outputs": [
    {
     "output_type": "stream",
     "name": "stderr",
     "text": [
      "INFO  : Global CATMAID instance set. Caching is ON. (pymaid)\n",
      "INFO  : Searching for: Paper: Zheng et al 2018 (pymaid)\n"
     ]
    }
   ],
   "source": [
    "import pymaid\n",
    "source = pymaid.CatmaidInstance('https://fafb.catmaid.virtualflybrain.org/' , api_token=None)\n",
    "\n",
    "neurons = pymaid.get_annotated(\"Paper: Zheng et al 2018\") # Paper of interest"
   ]
  },
  {
   "source": [
    "### This step will possibly throw an error depending on the version of pymaid you have. We tested this with the latest version of pymaid from Github, which you can download with `pip3 install git+git://github.com/schlegelp/pymaid@master`"
   ],
   "cell_type": "markdown",
   "metadata": {}
  },
  {
   "source": [
    "## Get Neuron IDs in a List for Indexing"
   ],
   "cell_type": "markdown",
   "metadata": {}
  },
  {
   "cell_type": "code",
   "execution_count": 2,
   "metadata": {},
   "outputs": [],
   "source": [
    "skeleton_ids = [j for j in neurons[\"skeleton_ids\"]] # Get Skeleton IDs in list\n",
    "\n",
    "old = skeleton_ids\n",
    "skeleton_ids = []\n",
    "\n",
    "for i in range(len(old)):\n",
    "    skeleton_ids.append(old[i][0])"
   ]
  },
  {
   "source": [
    "## Import Connectome"
   ],
   "cell_type": "markdown",
   "metadata": {}
  },
  {
   "cell_type": "code",
   "execution_count": 3,
   "metadata": {},
   "outputs": [],
   "source": [
    "connectome = pymaid.adjacency_matrix(skeleton_ids)"
   ]
  },
  {
   "cell_type": "code",
   "execution_count": 4,
   "metadata": {},
   "outputs": [
    {
     "output_type": "stream",
     "name": "stdout",
     "text": [
      "/mnt/c/Users/casey/Documents/School/Senior Year/First Semester/NDD/2020-2021/MyFork/connectocross\n"
     ]
    }
   ],
   "source": [
    "cd .."
   ]
  },
  {
   "cell_type": "code",
   "execution_count": 5,
   "metadata": {},
   "outputs": [],
   "source": [
    "from graph.grapgh_io import GraphIO\n",
    "import networkx as nx\n",
    "\n",
    "connectome_nx = nx.from_pandas_adjacency(connectome, create_using=nx.DiGraph)"
   ]
  },
  {
   "source": [
    "## Add Metadata"
   ],
   "cell_type": "markdown",
   "metadata": {}
  },
  {
   "cell_type": "code",
   "execution_count": 6,
   "metadata": {},
   "outputs": [],
   "source": [
    "count = 0\n",
    "for id in connectome_nx.nodes:\n",
    "    connectome_nx.nodes[id]['Name'] = neurons['name'][count]\n",
    "    count += 1\n",
    "\n",
    "    try:\n",
    "        # Soma location, hemisphere\n",
    "        df = pymaid.get_node_location(id)\n",
    "        connectome_nx.nodes[id]['X'] = df['x'][0]\n",
    "        connectome_nx.nodes[id]['Y'] = df['y'][0]\n",
    "        connectome_nx.nodes[id]['Z'] = df['z'][0]\n",
    "        if df['x'][0] < 550000:\n",
    "            connectome_nx.nodes[id]['Side'] = 'L'\n",
    "        else:\n",
    "            connectome_nx.nodes[id]['Side'] = 'R'\n",
    "    except:\n",
    "        connectome_nx.nodes[id]['X'] = False\n",
    "        connectome_nx.nodes[id]['Y'] = False\n",
    "        connectome_nx.nodes[id]['Z'] = False\n",
    "        connectome_nx.nodes[id]['Side'] = False\n",
    "\n",
    "for edge in connectome_nx.edges:\n",
    "\n",
    "    connectome_nx.edges[edge]['synapse_type'] = \"chemical\""
   ]
  },
  {
   "source": [
    "## Create `.json` File"
   ],
   "cell_type": "markdown",
   "metadata": {}
  },
  {
   "cell_type": "code",
   "execution_count": 7,
   "metadata": {},
   "outputs": [],
   "source": [
    "G = GraphIO.dump(connectome_nx, \"json_connectomes/fafb.json\")"
   ]
  }
 ]
}
