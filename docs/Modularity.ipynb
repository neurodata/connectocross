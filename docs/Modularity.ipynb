{
 "cells": [
  {
   "cell_type": "markdown",
   "metadata": {},
   "source": [
    "# Modularity"
   ]
  },
  {
   "cell_type": "markdown",
   "metadata": {},
   "source": [
    "In this notebook, we will calculate the modularity of each graph."
   ]
  },
  {
   "cell_type": "code",
   "execution_count": 1,
   "metadata": {},
   "outputs": [],
   "source": [
    "import numpy as np \n",
    "import pandas as pd\n",
    "import seaborn as sns\n",
    "import networkx as nx\n",
    "import matplotlib.pyplot as plt\n",
    "import matplotlib.patches as ptch\n",
    "from matplotlib.lines import Line2D\n",
    "\n",
    "from graph import GraphIO\n",
    "from graspologic.utils import symmetrize, to_weighted_edge_list\n",
    "from graspologic.partition import leiden, modularity\n",
    "\n",
    "from c_elegans.witvilet2020.load_wit import load_wit\n",
    "from c_elegans.worm_wiring.load_worm import load_worm\n",
    "\n",
    "%matplotlib inline"
   ]
  },
  {
   "cell_type": "markdown",
   "metadata": {},
   "source": [
    "Load graphs."
   ]
  },
  {
   "cell_type": "code",
   "execution_count": 2,
   "metadata": {},
   "outputs": [],
   "source": [
    "worm_graphs = load_worm()\n",
    "wit_graphs = load_wit()\n",
    "worm_connectomes = worm_graphs[6:12]"
   ]
  },
  {
   "cell_type": "code",
   "execution_count": 3,
   "metadata": {},
   "outputs": [],
   "source": [
    "neuPrint = './json_connectomes/neuPrint_graphs.json'\n",
    "fafb = './json_connectomes/fafb.json'\n",
    "ciona = './json_connectomes/ciona.json'\n",
    "G_neuP, _, _, _ = GraphIO.load(neuPrint)\n",
    "G_fafb, _, _, _ = GraphIO.load(fafb)\n",
    "G_ciona, _, _, _ = GraphIO.load(ciona)"
   ]
  },
  {
   "cell_type": "markdown",
   "metadata": {},
   "source": [
    "Change the graph nodes which are type int to type str."
   ]
  },
  {
   "cell_type": "code",
   "execution_count": 4,
   "metadata": {},
   "outputs": [],
   "source": [
    "def nodes_to_string(G):\n",
    "    '''\n",
    "    Given a networkx graph, convert the nodes into type str.\n",
    "    '''\n",
    "    str_nodes = []\n",
    "    for i in G.nodes:\n",
    "        new_node = str(i)\n",
    "        str_nodes.append(new_node)\n",
    "    mapping = dict(zip(G, str_nodes))\n",
    "    graph_str = nx.relabel_nodes(G, mapping)\n",
    "    return graph_str"
   ]
  },
  {
   "cell_type": "code",
   "execution_count": 5,
   "metadata": {},
   "outputs": [],
   "source": [
    "G_neuP_str = nodes_to_string(G_neuP)\n",
    "G_fafb_str = nodes_to_string(G_fafb)"
   ]
  },
  {
   "cell_type": "markdown",
   "metadata": {},
   "source": [
    "Change the directed graphs into undirected by recreating the graph with newly weighted edges. The new weight is defined as the average weight between two nodes."
   ]
  },
  {
   "cell_type": "code",
   "execution_count": 6,
   "metadata": {},
   "outputs": [],
   "source": [
    "def average_undirect(G):\n",
    "    G_undirect = nx.Graph()\n",
    "    G_un = []\n",
    "    nodes_list = []\n",
    "    for (u, v, wt) in G.edges.data('weight'):\n",
    "        for (ui, vi, wti) in G.edges.data('weight'):\n",
    "            if vi == u and ui == v:\n",
    "                n_a = u\n",
    "                n_b = v\n",
    "                new_wt = (wt+wti)/2\n",
    "                if (n_a, n_b) not in nodes_list:\n",
    "                    nodes_list.append((n_a, n_b))\n",
    "                    G_un.append((n_a, n_b, new_wt))\n",
    "    G_undirect.add_weighted_edges_from(G_un)\n",
    "    return G_undirect"
   ]
  },
  {
   "cell_type": "code",
   "execution_count": 7,
   "metadata": {},
   "outputs": [],
   "source": [
    "def modulate_graphs(G):\n",
    "    '''\n",
    "    Given the networkx graph, returns the modularity of each graph.\n",
    "    '''\n",
    "    if type(G) is nx.MultiDiGraph:\n",
    "        G = G.to_undirected()\n",
    "        G = GraphIO.multigraph_to_graphs(G)\n",
    "        leids = []\n",
    "        ms = []\n",
    "        for g in G:\n",
    "            leiden_g = leiden(g)\n",
    "            leids.append(leiden_g)\n",
    "            m = modularity(g,leiden_g)\n",
    "            ms.append(m)\n",
    "        return ms\n",
    "    if type(G) is nx.DiGraph:\n",
    "        G = G.to_undirected()\n",
    "        leiden_g = leiden(G)\n",
    "        m = modularity(G,leiden_g)\n",
    "        return m\n",
    "    else:\n",
    "        leiden_g = leiden(G)\n",
    "        m = modularity(G,leiden_g)\n",
    "        return m"
   ]
  },
  {
   "cell_type": "markdown",
   "metadata": {},
   "source": [
    "Use the same method in Graph Stats.ipynb developed by Paul to visualize the result."
   ]
  },
  {
   "cell_type": "code",
   "execution_count": 8,
   "metadata": {},
   "outputs": [],
   "source": [
    "fafb_graph = G_fafb_str\n",
    "neuPrint_graph = G_neuP_str\n",
    "ciona_graph = G_ciona\n",
    "ciona_graph.graph[\"Sex\"] = \"Hermaphrodite\"\n",
    "ciona_graph.graph[\"synapse_type\"] = \"Mixed\"\n",
    "fafb_graph.graph[\"Sex\"] = \"Female\"\n",
    "fafb_graph.graph[\"synapse_type\"] = \"Chemical\"\n",
    "neuPrint_graph.graph[\"Sex\"] = \"Female\"\n",
    "neuPrint_graph.graph[\"synapse_type\"] = \"Chemical\""
   ]
  },
  {
   "cell_type": "code",
   "execution_count": 9,
   "metadata": {},
   "outputs": [
    {
     "name": "stdout",
     "output_type": "stream",
     "text": [
      "nan\n"
     ]
    }
   ],
   "source": [
    "mod = []\n",
    "graph_origin = []\n",
    "synapse_type = []\n",
    "s = []\n",
    "graph_origin = []\n",
    "\n",
    "for g in worm_connectomes:\n",
    "    graph_origin.append(\"worm\")\n",
    "    synapse_type.append(g.graph['Synapse Type'])\n",
    "    s.append(g.graph['Sex'])\n",
    "    g_u = average_undirect(g)\n",
    "    mod.append(modulate_graphs(g_u))\n",
    "    \n",
    "for graph in wit_graphs:\n",
    "    chemical_edges = []\n",
    "    electrical_edges = []\n",
    "    for *edge, attr in graph.edges(data=True, keys=True):\n",
    "        if attr['synapse_type'] == \"chemical\":\n",
    "            chemical_edges.append((*edge,))\n",
    "        elif attr['synapse_type'] == \"electrical\":\n",
    "            electrical_edges.append((*edge,))\n",
    "    g_chemical = graph.edge_subgraph(chemical_edges)\n",
    "    g_electrical = graph.edge_subgraph(electrical_edges)\n",
    "    for g, syn_type in [(g_chemical, \"Chemical\"), (g_electrical, \"Total Gap Junction\")]:\n",
    "        graph_origin.append(\"wit\")\n",
    "        g_u = average_undirect(g)\n",
    "        mod.append(modulate_graphs(g_u))\n",
    "        synapse_type.append(syn_type)\n",
    "        s.append('Hermaphrodite')\n",
    "\n",
    "\n",
    "for g, origin in zip([fafb_graph, neuPrint_graph], [\"fafb\", \"neuPrint\"]):\n",
    "    graph_origin.append(origin)\n",
    "    mod.append(modulate_graphs(g))\n",
    "    synapse_type.append(g.graph[\"synapse_type\"])\n",
    "    s.append(g.graph[\"Sex\"])\n",
    "\n",
    "graph_origin.append(\"ciona\")\n",
    "print(modulate_graphs(ciona_graph))\n",
    "mod.append(0)\n",
    "synapse_type.append(ciona_graph.graph[\"synapse_type\"])\n",
    "s.append(ciona_graph.graph[\"Sex\"])\n",
    "\n",
    "s = np.array(s)\n",
    "mod = np.array(mod)\n",
    "graph_origin = np.array(graph_origin)\n",
    "synapse_type = np.array(synapse_type)"
   ]
  },
  {
   "cell_type": "markdown",
   "metadata": {},
   "source": [
    "Above here, we plot out the true value of the modularity of ciona. For the code I have now, it returns the value as nan. For the consistance of plotting, I set the value of modularity in ciona as 0 for now."
   ]
  },
  {
   "cell_type": "markdown",
   "metadata": {},
   "source": [
    "Below are the modularity values for each graph:"
   ]
  },
  {
   "cell_type": "code",
   "execution_count": 10,
   "metadata": {},
   "outputs": [
    {
     "data": {
      "text/plain": [
       "array([0.67587643, 0.42530557, 0.66619527, 0.70228917, 0.44383798,\n",
       "       0.75648366, 0.82148604, 0.        , 0.82405983, 0.        ,\n",
       "       0.79678834, 0.        , 0.79124719, 0.16666667, 0.77743768,\n",
       "       0.33333333, 0.74976119, 0.        , 0.72257865, 0.33333333,\n",
       "       0.70013869, 0.36419753, 0.47409648, 0.70747848, 0.        ])"
      ]
     },
     "execution_count": 10,
     "metadata": {},
     "output_type": "execute_result"
    }
   ],
   "source": [
    "mod"
   ]
  },
  {
   "cell_type": "code",
   "execution_count": 13,
   "metadata": {},
   "outputs": [],
   "source": [
    "palette = sns.color_palette(\"deep\")\n",
    "dark_palette = sns.color_palette(\"dark\")\n",
    "bright_palette = sns.color_palette(\"bright\")\n",
    "syntypes = [\"Chemical\", \"Symmetric Gap Junction\", \"Asymmetric Gap Junction\", \"Total Gap Junction\", \"Mixed\"]\n",
    "graph_origins = [\"worm\", \"wit\", \"ciona\", \"fafb\", \"neuPrint\"]\n",
    "syntype_pos = [float(i) for i, _ in enumerate(syntypes)]\n",
    "syntype2pos = {syntype:i for i, syntype in zip(syntype_pos, syntypes)}\n",
    "syn_pos = np.array([syntype2pos[syntype] for syntype in synapse_type])\n",
    "syn_pos += 0.25*(np.random.rand(syn_pos.shape[0]) - 0.5) #adding jitter\n",
    "sexes = [\"Male\", \"Female\", \"Hermaphrodite\"]\n",
    "sex2shape = {\"Male\":\"^\", \"Hermaphrodite\":\"p\", \"Female\":\"o\"}\n",
    "graph2color = {\"ciona\":palette[0], \"fafb\":palette[1], \"worm\":dark_palette[2], \"wit\":bright_palette[2], \"neuPrint\":palette[3]}\n",
    "graph2patch = {}\n",
    "for g_origin in graph_origins:\n",
    "    graph2patch[g_origin] = ptch.Patch(color=graph2color[g_origin], label=g_origin)\n",
    "sex2patch = {}\n",
    "for isex in sexes:\n",
    "    sex2patch[isex] = Line2D([0], [0], marker=sex2shape[isex], color=\"w\", markerfacecolor=\"k\", label=isex)\n",
    "\n",
    "def vis_stat(stat, stat_name, use_log=True):\n",
    "    fig_max = np.max(stat)\n",
    "    sns.set_context('talk')\n",
    "    fig = plt.figure()\n",
    "    ax = plt.gca()\n",
    "    plt.hold=True\n",
    "    for isex in sexes:\n",
    "        for g_origin in graph_origins:\n",
    "            mask = np.logical_and(s==isex, graph_origin==g_origin)\n",
    "            plt.scatter(syn_pos[mask],\n",
    "                        stat[mask],\n",
    "                        c=np.array([graph2color[g_origin]]),\n",
    "                        label=g_origin,\n",
    "                        marker=sex2shape[isex])\n",
    "    grace_factor = 1.1\n",
    "    if use_log:\n",
    "        grace_factor = np.exp(grace_factor)\n",
    "    plt.text(syntype_pos[0], grace_factor*fig_max, \"Chemical\", ha=\"center\")\n",
    "    plt.text(syntype_pos[2], grace_factor*fig_max, \"Electrical\", ha=\"center\")\n",
    "    plt.hold=False\n",
    "    plt.ylabel(stat_name)\n",
    "    ax.xaxis.set_ticks(syntype_pos)\n",
    "    ax.xaxis.set_ticklabels(syntypes, rotation=45)\n",
    "    fill_width = 1\n",
    "    ax.axvspan(syntype_pos[0]-fill_width/2, syntype_pos[0]+fill_width/2, color=bright_palette[4], alpha=0.1)\n",
    "    ax.axvspan(syntype_pos[1]-fill_width/2, syntype_pos[3]+fill_width/2, color=bright_palette[8], alpha=0.1)\n",
    "    if use_log:\n",
    "        ax.set_yscale(\"log\")\n",
    "    handles = [graph2patch[g_origin] for g_origin in graph_origins]+[sex2patch[isex] for isex in sexes]\n",
    "    plt.legend(handles=handles, bbox_to_anchor=(1,1))\n",
    "    # return fig"
   ]
  },
  {
   "cell_type": "code",
   "execution_count": 14,
   "metadata": {},
   "outputs": [
    {
     "data": {
      "image/png": "[encoded data removed]",
      "text/plain": [
       "<Figure size 432x288 with 1 Axes>"
      ]
     },
     "metadata": {
      "needs_background": "light"
     },
     "output_type": "display_data"
    }
   ],
   "source": [
    "vis_stat(mod, \"Modularity\", use_log=False)"
   ]
  }
 ],
 "metadata": {
  "kernelspec": {
   "display_name": "Python 3",
   "language": "python",
   "name": "python3"
  },
  "language_info": {
   "codemirror_mode": {
    "name": "ipython",
    "version": 3
   },
   "file_extension": ".py",
   "mimetype": "text/x-python",
   "name": "python",
   "nbconvert_exporter": "python",
   "pygments_lexer": "ipython3",
   "version": "3.7.9"
  }
 },
 "nbformat": 4,
 "nbformat_minor": 4
}
