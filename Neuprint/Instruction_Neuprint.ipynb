{
 "cells": [
  {
   "cell_type": "markdown",
   "metadata": {},
   "source": [
    "# The instruction for data acquired from neuPrint"
   ]
  },
  {
   "cell_type": "markdown",
   "metadata": {},
   "source": [
    "The instructions below was based on the description from [neuPrintExplorer](https://neuprint.janelia.org/help/cypherexamples). For more information, please visit the original website. A technical neuPrint paper exists [here](https://www.biorxiv.org/content/10.1101/2020.01.16.909465v1.full)."
   ]
  },
  {
   "cell_type": "markdown",
   "metadata": {},
   "source": [
    "## Detailed information about the data"
   ]
  },
  {
   "cell_type": "code",
   "execution_count": 1,
   "metadata": {},
   "outputs": [
    {
     "data": {
      "text/plain": [
       "<bound method NDFrame.head of          Unnamed: 0  bodyId_pre  bodyId_post     roi  weight type_pre  \\\n",
       "0                 0   106979579   1040004619     SAD       1      NaN   \n",
       "1                 1   106979579   2099569651     SAD       1      NaN   \n",
       "2                 2   106979579   2157206476     SAD       1      NaN   \n",
       "3                 3   106979579   2535443901     SAD       1      NaN   \n",
       "4                 4   106979579   5813024910     SAD       1      NaN   \n",
       "...             ...         ...          ...     ...     ...      ...   \n",
       "8034505     8034505  7112626669   5813018847   AL(R)       1      NaN   \n",
       "8034506     8034506  7112626733    327588225  SMP(R)       1      NaN   \n",
       "8034507     8034507  7112626733    330640044  SMP(R)       1      NaN   \n",
       "8034508     8034508  7112626733    357945155  SMP(R)       1      NaN   \n",
       "8034509     8034509  7112626733   5813130028  SMP(R)       1      NaN   \n",
       "\n",
       "        instance_pre type_post instance_post  \n",
       "0           Franken1     CL304       CL304_R  \n",
       "1           Franken1       NaN           NaN  \n",
       "2           Franken1    SAD022      SAD022_R  \n",
       "3           Franken1       NaN           NaN  \n",
       "4           Franken1    SAD022      SAD022_R  \n",
       "...              ...       ...           ...  \n",
       "8034505          NaN     vLN27       vLN27_R  \n",
       "8034506          NaN    SMP083      SMP083_R  \n",
       "8034507          NaN    SMP181      SMP181_R  \n",
       "8034508          NaN    SMP119      SMP119_L  \n",
       "8034509          NaN    SMP407      SMP407_R  \n",
       "\n",
       "[8034510 rows x 9 columns]>"
      ]
     },
     "execution_count": 1,
     "metadata": {},
     "output_type": "execute_result"
    }
   ],
   "source": [
    "import pandas as pd\n",
    "import matplotlib.pyplot as plt\n",
    "df = pd.read_csv('Neuprint_connections.csv')\n",
    "df.head"
   ]
  },
  {
   "cell_type": "code",
   "execution_count": 2,
   "metadata": {},
   "outputs": [],
   "source": [
    "Id_pre = list(df['bodyId_pre'])\n",
    "Id_post = list(df['bodyId_post'])\n",
    "R_l = list(df['roi'])\n",
    "wt = list(df['weight'])\n",
    "t_pre = list(df['type_pre'])\n",
    "ins_pre = list(df['instance_pre'])\n",
    "t_post = list(df['type_post'])\n",
    "ins_post = list(df['instance_post'])"
   ]
  },
  {
   "cell_type": "markdown",
   "metadata": {},
   "source": [
    "### bodyId\n",
    "bodyId is the unique identifier of a body in neuPrint. A body is a segmentation piece with at least 1 synapse. They are treated as nodes in this graph.\n",
    "\n",
    "### nodes and edges\n",
    "As shown above, the total number of edges in this graph is 8034510."
   ]
  },
  {
   "cell_type": "code",
   "execution_count": 3,
   "metadata": {},
   "outputs": [
    {
     "name": "stdout",
     "output_type": "stream",
     "text": [
      "The number of source nodes is 138578\n"
     ]
    }
   ],
   "source": [
    "print('The number of source nodes is', len(pd.value_counts(Id_pre)))"
   ]
  },
  {
   "cell_type": "code",
   "execution_count": 4,
   "metadata": {},
   "outputs": [
    {
     "name": "stdout",
     "output_type": "stream",
     "text": [
      "The number of target nodes is 165435\n"
     ]
    }
   ],
   "source": [
    "print('The number of target nodes is', len(pd.value_counts(Id_post)))"
   ]
  },
  {
   "cell_type": "code",
   "execution_count": 5,
   "metadata": {},
   "outputs": [
    {
     "name": "stdout",
     "output_type": "stream",
     "text": [
      "The total number of nodes is 179907\n"
     ]
    }
   ],
   "source": [
    "print('The total number of nodes is', len(pd.value_counts(Id_pre + Id_post)))"
   ]
  },
  {
   "cell_type": "markdown",
   "metadata": {},
   "source": [
    "### ROI\n",
    "There are 64 regions of interest (ROI), the name of the regions and the numbers of connections in each ROI are listed below."
   ]
  },
  {
   "cell_type": "code",
   "execution_count": 6,
   "metadata": {},
   "outputs": [
    {
     "name": "stdout",
     "output_type": "stream",
     "text": [
      "LO(R)      752331\n",
      "SMP(R)     494343\n",
      "SLP(R)     434722\n",
      "SMP(L)     403630\n",
      "AVLP(R)    386241\n",
      "            ...  \n",
      "CAN(R)       4147\n",
      "BU(R)        3208\n",
      "BU(L)        2603\n",
      "AB(L)        1272\n",
      "PRW           478\n",
      "Length: 64, dtype: int64\n"
     ]
    }
   ],
   "source": [
    "print(pd.value_counts(R_l))"
   ]
  },
  {
   "cell_type": "markdown",
   "metadata": {},
   "source": [
    "### weight\n",
    "Weight indicates the number of synapese in a connection between two neurons. \n",
    "- It ranges from 1 to 1409 in this graph. The total counts for the connections with different weight are listed below. \n",
    "- The first column shows the value of the weight, and the sencond column shows the number of connections with corresponding weight value."
   ]
  },
  {
   "cell_type": "code",
   "execution_count": 7,
   "metadata": {},
   "outputs": [
    {
     "name": "stdout",
     "output_type": "stream",
     "text": [
      "1       4663656\n",
      "2       1449485\n",
      "3        627064\n",
      "4        336346\n",
      "5        206011\n",
      "         ...   \n",
      "329           1\n",
      "328           1\n",
      "326           1\n",
      "325           1\n",
      "1409          1\n",
      "Length: 398, dtype: int64\n"
     ]
    }
   ],
   "source": [
    "print(pd.value_counts(wt))"
   ]
  },
  {
   "cell_type": "markdown",
   "metadata": {},
   "source": [
    "### type\n",
    "Type contains the neuron type of the body.\n",
    "- By default cells get a type of the form NPXXX, where NP is a acronym for the neuropil with the largest overlap, such as CL for clamp, and XXX is numeric id\n",
    "- If a cell is clearly recognised as a previously published type, then the systematic name will instead be replaced by that published name\n",
    "- The types and the counts are listed in the blocks below. The first block shows the types of presynaptic neurons, and the second block shows the types of postsynaptic neurons. The first column in each blocks shows the name of the cell types, and the sencond column shows the number of of the corresponding type. "
   ]
  },
  {
   "cell_type": "code",
   "execution_count": 8,
   "metadata": {},
   "outputs": [
    {
     "name": "stdout",
     "output_type": "stream",
     "text": [
      "KCg-m      197167\n",
      "KCab-m     103932\n",
      "KCab-s      67060\n",
      "KCab-c      63125\n",
      "LC10        40780\n",
      "            ...  \n",
      "WED183          2\n",
      "DNa07           2\n",
      "WED084          1\n",
      "DNES1           1\n",
      "AOTU036         1\n",
      "Length: 5617, dtype: int64\n"
     ]
    }
   ],
   "source": [
    "print(pd.value_counts(t_pre))"
   ]
  },
  {
   "cell_type": "code",
   "execution_count": 9,
   "metadata": {},
   "outputs": [
    {
     "name": "stdout",
     "output_type": "stream",
     "text": [
      "KCg-m      184800\n",
      "KCab-m      98311\n",
      "KCab-s      61634\n",
      "KCab-c      56578\n",
      "LC10        43556\n",
      "            ...  \n",
      "PS229          34\n",
      "H1             26\n",
      "DNp28          19\n",
      "ORN_VM2        15\n",
      "OCG09          12\n",
      "Length: 5620, dtype: int64\n"
     ]
    }
   ],
   "source": [
    "print(pd.value_counts(t_post))"
   ]
  },
  {
   "cell_type": "markdown",
   "metadata": {},
   "source": [
    "### instance\n",
    "Instance indicates a name that indicates a more specific instance of a neuron type.\n",
    "- The instance and the counts are listed in the blocks below. The first block shows the instance of presynaptic neurons, and the second block shows the instance of postsynaptic neurons. The first column in each blocks shows the name of the instance, and the sencond column shows the number of of the corresponding instance. "
   ]
  },
  {
   "cell_type": "code",
   "execution_count": 10,
   "metadata": {},
   "outputs": [
    {
     "name": "stdout",
     "output_type": "stream",
     "text": [
      "KCg-m_R        197167\n",
      "KCab-m_R       103932\n",
      "KCab-s_R        67060\n",
      "KCab-c_R        63125\n",
      "(MBDLaxon1)     48392\n",
      "                ...  \n",
      "(PDM31)_R           1\n",
      "DNES1_R             1\n",
      "AOTU036_R           1\n",
      "(ADM12)_L           1\n",
      "(AVM09)_R           1\n",
      "Length: 7792, dtype: int64\n"
     ]
    }
   ],
   "source": [
    "print(pd.value_counts(ins_pre))"
   ]
  },
  {
   "cell_type": "code",
   "execution_count": 11,
   "metadata": {},
   "outputs": [
    {
     "name": "stdout",
     "output_type": "stream",
     "text": [
      "KCg-m_R      184800\n",
      "KCab-m_R      98311\n",
      "KCab-s_R      61634\n",
      "KCab-c_R      56578\n",
      "LC10          42490\n",
      "              ...  \n",
      "(PVM02)_R         5\n",
      "Franken1          5\n",
      "Franken6          5\n",
      "(PDM31)_R         4\n",
      "(AVL22)_R         2\n",
      "Length: 7802, dtype: int64\n"
     ]
    }
   ],
   "source": [
    "print(pd.value_counts(ins_post))"
   ]
  },
  {
   "cell_type": "markdown",
   "metadata": {},
   "source": [
    "## More information about the node attributes\n",
    "\n",
    ":Segment (:Neuron) nodes\n",
    "\n",
    "#### bodyId: a unique number for each distinct segment\n",
    "\n",
    "#### pre: Number of pre-synaptic sites on the segment\n",
    "\n",
    "#### post: Number of post-synaptic sites on the segment\n",
    "\n",
    "#### type: Cell type name for given neuron (if provided)\n",
    "\n",
    "#### instance: String identifier for a neuron (if provided)\n",
    "\n",
    "#### size: Number of voxels in the body\n",
    "\n",
    "#### roiInfo: JSON string showing the pre and post breakdown for each ROI the neuron intersects.\n",
    "\n",
    "#### roi: This property only exists for the ROIs that intersect this segment\n",
    "\n",
    "#### tatus: Reconstruction status for a neuron. By convention, we broadly consider proofread neurons as being “Traced”.\n",
    "\n",
    "#### cropped: Since datasets often involve a portion of a larger brain, cropped indicates that a significant portion of a neuron is cut-off by the dataset extents. By convention, all “Traced” neurons should be explicitly noted whether they are cropped or not.\n",
    "\n",
    "_quote from [here](https://www.biorxiv.org/content/10.1101/2020.01.16.909465v1.full)_"
   ]
  }
 ],
 "metadata": {
  "kernelspec": {
   "display_name": "Python 3",
   "language": "python",
   "name": "python3"
  },
  "language_info": {
   "codemirror_mode": {
    "name": "ipython",
    "version": 3
   },
   "file_extension": ".py",
   "mimetype": "text/x-python",
   "name": "python",
   "nbconvert_exporter": "python",
   "pygments_lexer": "ipython3",
   "version": "3.7.9"
  }
 },
 "nbformat": 4,
 "nbformat_minor": 4
}
