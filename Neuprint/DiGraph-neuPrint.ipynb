{
 "cells": [
  {
   "cell_type": "markdown",
   "metadata": {},
   "source": [
    "In this notebook, we will convert the obtained .csv file from neuPrint dataset into .json file using GraphIO. First, read the data from .csv files."
   ]
  },
  {
   "cell_type": "code",
   "execution_count": 1,
   "metadata": {},
   "outputs": [
    {
     "data": {
      "text/plain": [
       "<bound method NDFrame.head of          Unnamed: 0  bodyId_pre  bodyId_post     roi  weight type_pre  \\\n",
       "0                 0   106979579   1040004619     SAD       1      NaN   \n",
       "1                 1   106979579   2099569651     SAD       1      NaN   \n",
       "2                 2   106979579   2157206476     SAD       1      NaN   \n",
       "3                 3   106979579   2535443901     SAD       1      NaN   \n",
       "4                 4   106979579   5813024910     SAD       1      NaN   \n",
       "...             ...         ...          ...     ...     ...      ...   \n",
       "8034505     8034505  7112626669   5813018847   AL(R)       1      NaN   \n",
       "8034506     8034506  7112626733    327588225  SMP(R)       1      NaN   \n",
       "8034507     8034507  7112626733    330640044  SMP(R)       1      NaN   \n",
       "8034508     8034508  7112626733    357945155  SMP(R)       1      NaN   \n",
       "8034509     8034509  7112626733   5813130028  SMP(R)       1      NaN   \n",
       "\n",
       "        instance_pre type_post instance_post  \n",
       "0           Franken1     CL304       CL304_R  \n",
       "1           Franken1       NaN           NaN  \n",
       "2           Franken1    SAD022      SAD022_R  \n",
       "3           Franken1       NaN           NaN  \n",
       "4           Franken1    SAD022      SAD022_R  \n",
       "...              ...       ...           ...  \n",
       "8034505          NaN     vLN27       vLN27_R  \n",
       "8034506          NaN    SMP083      SMP083_R  \n",
       "8034507          NaN    SMP181      SMP181_R  \n",
       "8034508          NaN    SMP119      SMP119_L  \n",
       "8034509          NaN    SMP407      SMP407_R  \n",
       "\n",
       "[8034510 rows x 9 columns]>"
      ]
     },
     "execution_count": 1,
     "metadata": {},
     "output_type": "execute_result"
    }
   ],
   "source": [
    "import pandas as pd\n",
    "import networkx as nx\n",
    "import matplotlib.pyplot as plt\n",
    "from graph import GraphIO\n",
    "G_Neuprint = nx.DiGraph()\n",
    "\n",
    "df = pd.read_csv('Neuprint_connections.csv')\n",
    "df_2 = pd.read_csv('Neuprint_neuron_all.csv')\n",
    "df_3 = pd.read_csv('neuPrint_roicounts.csv')\n",
    "df.head"
   ]
  },
  {
   "cell_type": "code",
   "execution_count": 2,
   "metadata": {},
   "outputs": [
    {
     "data": {
      "text/plain": [
       "<bound method NDFrame.head of         Unnamed: 0      bodyId  instance type  pre  post         size  \\\n",
       "0                0   106979579  Franken1  NaN    3     6     97628357   \n",
       "1                1   108632992  Franken2  NaN   13    55  10146826497   \n",
       "2                2   198469830       NaN  NaN    0     0      6665418   \n",
       "3                3   198810827       NaN  NaN    0     0      9211633   \n",
       "4                4   198815212       NaN  NaN    0     0     27720313   \n",
       "...            ...         ...       ...  ...  ...   ...          ...   \n",
       "186056      186056  7112626663       NaN  NaN   40    52     73261205   \n",
       "186057      186057  7112626669       NaN  NaN    7     2      8669132   \n",
       "186058      186058  7112626688       NaN  NaN    0    10      3813327   \n",
       "186059      186059  7112626733       NaN  NaN    2    26      6115066   \n",
       "186060      186060  7112626771       NaN  NaN    0    11       248547   \n",
       "\n",
       "             status cropped  statusLabel cellBodyFiber  somaRadius  \\\n",
       "0       Unimportant     NaN  Unimportant           NaN         NaN   \n",
       "1       Unimportant     NaN  Unimportant           NaN       301.0   \n",
       "2            Traced    True       Leaves           NaN       299.0   \n",
       "3            Traced    True       Leaves           NaN       299.0   \n",
       "4            Traced    True       Leaves           NaN       299.0   \n",
       "...             ...     ...          ...           ...         ...   \n",
       "186056       Assign     NaN    0.5assign           NaN         NaN   \n",
       "186057       Assign     NaN    0.5assign           NaN         NaN   \n",
       "186058       Assign     NaN    0.5assign           NaN         NaN   \n",
       "186059       Assign     NaN    0.5assign           NaN         NaN   \n",
       "186060       Assign     NaN    0.5assign           NaN         NaN   \n",
       "\n",
       "                 somaLocation  \\\n",
       "0                         NaN   \n",
       "1       [18418, 11024, 11376]   \n",
       "2        [33045, 15655, 3280]   \n",
       "3        [33014, 16221, 3088]   \n",
       "4        [33342, 16128, 3216]   \n",
       "...                       ...   \n",
       "186056                    NaN   \n",
       "186057                    NaN   \n",
       "186058                    NaN   \n",
       "186059                    NaN   \n",
       "186060                    NaN   \n",
       "\n",
       "                                                inputRois  \\\n",
       "0                                 ['AMMC', 'PENP', 'SAD']   \n",
       "1       ['CA(R)', 'GNG', 'IPS(R)', 'MB(+ACA)(R)', 'MB(...   \n",
       "2                                                      []   \n",
       "3                                                      []   \n",
       "4                                                      []   \n",
       "...                                                   ...   \n",
       "186056                               ['SMP(L)', 'SNP(L)']   \n",
       "186057                             ['AL(R)', 'AL-VC5(R)']   \n",
       "186058                               ['SLP(R)', 'SNP(R)']   \n",
       "186059                               ['SMP(R)', 'SNP(R)']   \n",
       "186060                            ['AL(R)', 'AL-DL2d(R)']   \n",
       "\n",
       "                                               outputRois  \\\n",
       "0                                 ['AMMC', 'PENP', 'SAD']   \n",
       "1       ['CA(R)', 'GNG', 'IPS(R)', 'MB(+ACA)(R)', 'MB(...   \n",
       "2                                                      []   \n",
       "3                                                      []   \n",
       "4                                                      []   \n",
       "...                                                   ...   \n",
       "186056                               ['SMP(L)', 'SNP(L)']   \n",
       "186057                ['AL(R)', 'AL-VC5(R)', 'AL-VP2(R)']   \n",
       "186058                                                 []   \n",
       "186059                               ['SMP(R)', 'SNP(R)']   \n",
       "186060                                                 []   \n",
       "\n",
       "                                                  roiInfo  \n",
       "0       {'PENP': {'pre': 3, 'post': 4, 'downstream': 1...  \n",
       "1       {'MB(R)': {'pre': 2, 'post': 12, 'downstream':...  \n",
       "2                                                      {}  \n",
       "3                                                      {}  \n",
       "4                                                      {}  \n",
       "...                                                   ...  \n",
       "186056  {'SNP(L)': {'pre': 40, 'post': 52, 'downstream...  \n",
       "186057  {'AL(R)': {'pre': 7, 'post': 2, 'downstream': ...  \n",
       "186058   {'SNP(R)': {'post': 10}, 'SLP(R)': {'post': 10}}  \n",
       "186059  {'SNP(R)': {'pre': 2, 'post': 26, 'downstream'...  \n",
       "186060  {'AL(R)': {'post': 11}, 'AL-DL2d(R)': {'post':...  \n",
       "\n",
       "[186061 rows x 16 columns]>"
      ]
     },
     "execution_count": 2,
     "metadata": {},
     "output_type": "execute_result"
    }
   ],
   "source": [
    "df_2.head"
   ]
  },
  {
   "cell_type": "code",
   "execution_count": 3,
   "metadata": {},
   "outputs": [
    {
     "data": {
      "text/plain": [
       "<bound method NDFrame.head of         Unnamed: 0      bodyId         roi  pre  post\n",
       "0                0   106979579        PENP    3     4\n",
       "1                1   106979579         SAD    3     4\n",
       "2                2   106979579        AMMC    3     4\n",
       "3                3   108632992       MB(R)    2    12\n",
       "4                4   108632992       CA(R)    2    12\n",
       "...            ...         ...         ...  ...   ...\n",
       "629897      629897  7112626688      SLP(R)    0    10\n",
       "629898      629898  7112626733      SNP(R)    2    26\n",
       "629899      629899  7112626733      SMP(R)    2    26\n",
       "629900      629900  7112626771       AL(R)    0    11\n",
       "629901      629901  7112626771  AL-DL2d(R)    0    11\n",
       "\n",
       "[629902 rows x 5 columns]>"
      ]
     },
     "execution_count": 3,
     "metadata": {},
     "output_type": "execute_result"
    }
   ],
   "source": [
    "df_3.head"
   ]
  },
  {
   "cell_type": "markdown",
   "metadata": {},
   "source": [
    "Convert the data into different lists before saving into networkx."
   ]
  },
  {
   "cell_type": "code",
   "execution_count": 4,
   "metadata": {},
   "outputs": [],
   "source": [
    "Id_pre = list(df['bodyId_pre'])\n",
    "Id_post = list(df['bodyId_post'])\n",
    "R_l = list(df['roi'])\n",
    "wt = list(df['weight'])\n",
    "t_pre = list(df['type_pre'])\n",
    "ins_pre = list(df['instance_pre'])\n",
    "t_post = list(df['type_post'])\n",
    "ins_post = list(df['instance_post'])"
   ]
  },
  {
   "cell_type": "code",
   "execution_count": 5,
   "metadata": {},
   "outputs": [],
   "source": [
    "Id = list(df_2['bodyId'])\n",
    "ins = list(df_2['instance'])\n",
    "tp = list(df_2['type'])\n",
    "pr = list(df_2['pre'])\n",
    "po = list(df_2['post'])\n",
    "\n",
    "s = list(df_2['size'])\n",
    "sta = list(df_2['status'])\n",
    "cro = list(df_2['cropped'])\n",
    "staL= list(df_2['statusLabel'])\n",
    "\n",
    "cBF = list(df_2['cellBodyFiber'])\n",
    "somaR = list(df_2['somaRadius'])\n",
    "somaL = list(df_2['somaLocation'])\n",
    "inR = list(df_2['inputRois'])\n",
    "outR = list(df_2['outputRois'])\n",
    "RInfo = list(df_2['roiInfo'])"
   ]
  },
  {
   "cell_type": "code",
   "execution_count": 6,
   "metadata": {},
   "outputs": [],
   "source": [
    "Id_3 = list(df_3['bodyId'])\n",
    "Rcount_roi = list(df_3['roi'])\n",
    "Rcount_pre = list(df_3['pre'])\n",
    "Rcount_post = list(df_3['post'])"
   ]
  },
  {
   "cell_type": "markdown",
   "metadata": {},
   "source": [
    "Transfer data into networkx"
   ]
  },
  {
   "cell_type": "code",
   "execution_count": 7,
   "metadata": {},
   "outputs": [],
   "source": [
    "G_Neuprint.graph['Sex'] = 'Female'\n",
    "G_Neuprint.graph['Synapse Type'] = 'Chemical'\n",
    "G_Neuprint.graph['Title'] = \"This neuPrint data is based on the FlyEM hemibrain dataset v1.2. The source data is abtained from the semibrain sample of sigle felmale fly. It produces a connectome consisting of reconstructed neuron morphologies and the chemical synapses between them. For more information, please check on the source website(https://www.janelia.org/project-team/flyem/hemibrain). In this file, we set unique bodyId as different nodes. For more information about the attributes in this file, please see the instruction file or check Graph Attributes on wiki.\""
   ]
  },
  {
   "cell_type": "code",
   "execution_count": 8,
   "metadata": {},
   "outputs": [],
   "source": [
    "n = 0\n",
    "for i in Id:\n",
    "    G_Neuprint.add_node(Id[n])\n",
    "    G_Neuprint.nodes[Id[n]][\"instance\"] = ins[n]\n",
    "    G_Neuprint.nodes[Id[n]][\"type\"] = tp[n]\n",
    "    G_Neuprint.nodes[Id[n]][\"pre\"] = pr[n]\n",
    "    G_Neuprint.nodes[Id[n]][\"post\"] = po[n]\n",
    "    \n",
    "    G_Neuprint.nodes[Id[n]][\"size\"] = s[n]\n",
    "    G_Neuprint.nodes[Id[n]][\"status\"] = sta[n]\n",
    "    G_Neuprint.nodes[Id[n]][\"cropped\"] = cro[n]\n",
    "    G_Neuprint.nodes[Id[n]][\"statusLabel\"] = staL[n]\n",
    "    \n",
    "    G_Neuprint.nodes[Id[n]][\"cellBodyFiber\"] = cBF[n]\n",
    "    G_Neuprint.nodes[Id[n]][\"somaRadius\"] = somaR[n]\n",
    "    G_Neuprint.nodes[Id[n]][\"somaLocation\"] = somaL[n]\n",
    "    G_Neuprint.nodes[Id[n]][\"inputRois\"] = inR[n]\n",
    "    G_Neuprint.nodes[Id[n]][\"outputRois\"] = outR[n]\n",
    "    G_Neuprint.nodes[Id[n]][\"roiInfo\"] = RInfo[n]\n",
    "    n = n + 1"
   ]
  },
  {
   "cell_type": "code",
   "execution_count": 9,
   "metadata": {},
   "outputs": [],
   "source": [
    "n = 0\n",
    "for j in Id_3:\n",
    "    G_Neuprint.nodes[Id_3[n]][\"roicounts_name\"] = Rcount_roi[n]\n",
    "    G_Neuprint.nodes[Id_3[n]][\"roicounts_pre\"] = Rcount_pre[n]\n",
    "    G_Neuprint.nodes[Id_3[n]][\"roicounts_post\"] = Rcount_post[n]\n",
    "    n = n + 1"
   ]
  },
  {
   "cell_type": "code",
   "execution_count": 10,
   "metadata": {},
   "outputs": [],
   "source": [
    "n = 0\n",
    "for k in Id_pre:\n",
    "    G_Neuprint.add_edge(Id_pre[n], Id_post[n])\n",
    "    G_Neuprint.edges[Id_pre[n], Id_post[n]]['weight'] = wt[n]\n",
    "    G_Neuprint.edges[Id_pre[n], Id_post[n]]['ROI'] = R_l[n]\n",
    "    G_Neuprint.nodes[Id_pre[n]][\"type_pre\"] = t_pre[n]\n",
    "    G_Neuprint.nodes[Id_pre[n]][\"instance_pre\"] = ins_pre[n]\n",
    "    G_Neuprint.nodes[Id_post[n]][\"type_post\"] = t_post[n]\n",
    "    G_Neuprint.nodes[Id_post[n]][\"instance_post\"] = ins_post[n]\n",
    "    n = n + 1"
   ]
  },
  {
   "cell_type": "markdown",
   "metadata": {},
   "source": [
    "Store graph data into .json file using GraphIO"
   ]
  },
  {
   "cell_type": "code",
   "execution_count": 11,
   "metadata": {},
   "outputs": [],
   "source": [
    "from graph import GraphIO\n",
    "\n",
    "GraphIO.dump(G_Neuprint, './neuPrint/neuPrint_graphs.json')"
   ]
  },
  {
   "cell_type": "code",
   "execution_count": 14,
   "metadata": {},
   "outputs": [],
   "source": [
    "G_neuP, _, _, _ = GraphIO.load('./neuPrint/neuPrint_graphs.json')"
   ]
  },
  {
   "cell_type": "code",
   "execution_count": 15,
   "metadata": {},
   "outputs": [
    {
     "data": {
      "text/plain": [
       "<networkx.classes.digraph.DiGraph at 0x2b29e2a0408>"
      ]
     },
     "execution_count": 15,
     "metadata": {},
     "output_type": "execute_result"
    }
   ],
   "source": [
    "G_neuP"
   ]
  },
  {
   "cell_type": "code",
   "execution_count": 16,
   "metadata": {},
   "outputs": [
    {
     "data": {
      "text/plain": [
       "{'Sex': 'Female',\n",
       " 'Synapse Type': 'Chemical',\n",
       " 'Title': 'This neuPrint data is based on the FlyEM hemibrain dataset v1.2. The source data is abtained from the semibrain sample of sigle felmale fly. It produces a connectome consisting of reconstructed neuron morphologies and the chemical synapses between them. For more information, please check on the source website(https://www.janelia.org/project-team/flyem/hemibrain). In this file, we set unique bodyId as different nodes. For more information about the attributes in this file, please see the instruction file or check Graph Attributes on wiki.'}"
      ]
     },
     "execution_count": 16,
     "metadata": {},
     "output_type": "execute_result"
    }
   ],
   "source": [
    "G_neuP.graph"
   ]
  }
 ],
 "metadata": {
  "kernelspec": {
   "display_name": "Python 3",
   "language": "python",
   "name": "python3"
  },
  "language_info": {
   "codemirror_mode": {
    "name": "ipython",
    "version": 3
   },
   "file_extension": ".py",
   "mimetype": "text/x-python",
   "name": "python",
   "nbconvert_exporter": "python",
   "pygments_lexer": "ipython3",
   "version": "3.7.9"
  }
 },
 "nbformat": 4,
 "nbformat_minor": 4
}
