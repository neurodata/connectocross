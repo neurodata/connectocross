{
 "cells": [
  {
   "cell_type": "code",
   "execution_count": 1,
   "metadata": {},
   "outputs": [],
   "source": [
    "import sys\n",
    "sys.path.append(\"../\")"
   ]
  },
  {
   "cell_type": "code",
   "execution_count": 2,
   "metadata": {
    "pycharm": {
     "name": "#%%\n"
    }
   },
   "outputs": [],
   "source": [
    "from worm_wiring import worm_wiring\n",
    "import pandas as pd\n",
    "import networkx as nx\n",
    "import numpy as np\n",
    "import math"
   ]
  },
  {
   "cell_type": "code",
   "execution_count": 3,
   "metadata": {},
   "outputs": [],
   "source": [
    "# adjacency matrix, rows presynaptic, cols post synaptic\n",
    "struct = {'structure': \"https://elifesciences.org/download/aHR0cHM6Ly9jZG4uZWxpZmVzY2llbmNlcy5vcmcvYXJ0aWNsZXMvMTY5NjIvZWxpZmUtMTY5NjItZmlnMTYtZGF0YTEtdjEueGxzeA--/elife-16962-fig16-data1-v1.xlsx?_hash=ltleHMu0Mu0ujKuGWUeIsAsFtqARmr7badHc8RYWqcA%3D\"}\n",
    "\n",
    "# cell type, characteristics, of cells, Annotation(e.g. sensory, inter, motor)\n",
    "# annoyingly, doesn't list ids in adj. must infer, e.g. in Abreviation is PR-I,\n",
    "# and there are 10 cells of this, then matching ids will pr\n",
    "base_atts = {'basic_atts': \"https://elifesciences.org/download/aHR0cHM6Ly9jZG4uZWxpZmVzY2llbmNlcy5vcmcvYXJ0aWNsZXMvMTY5NjIvZWxpZmUtMTY5NjItZmlnMS1kYXRhMS12MS54bHN4/elife-16962-fig1-data1-v1.xlsx?_hash=RJKemxiTOb3fYQn5SXeog7w8Lzn%2F9Cka4BwHFyruMaM%3D\"}\n",
    "\n",
    "# Neurons listed by ID, with cell type, morphological features, location, presence or absence of cilia, and number\n",
    "# of each neuron’s pre- and postsynaptic sites or putative gap junctions (>0.06 µm). Ependymal cells excluded. The\n",
    "# final column shows left lateral views of individual neuron reconstructions (whole cells, or terminals for\n",
    "# photoreceptors) as small thumbnails with scale bars: 1 µm (thick bars: coronet cells, lens cells, photoreceptor\n",
    "# terminals and PR-III cells, vacINs); 10 µm (thin bars: all other cells).\n",
    "cell_data = {'cell_bio_data': \"https://elifesciences.org/download/aHR0cHM6Ly9jZG4uZWxpZmVzY2llbmNlcy5vcmcvYXJ0aWNsZXMvMTY5NjIvZWxpZmUtMTY5NjItZmlnMy1kYXRhMS12MS54bHN4/elife-16962-fig3-data1-v1.xlsx?_hash=PIvd%2FA8L6avkM1Y3ebK9%2BlgoGGiskaH53PsAYK%2BtGyM%3D\"}\n"
   ]
  },
  {
   "cell_type": "markdown",
   "metadata": {
    "pycharm": {
     "name": "#%% md\n"
    }
   },
   "source": [
    "Load files using the worm wiring xlsx loader"
   ]
  },
  {
   "cell_type": "code",
   "execution_count": 4,
   "metadata": {
    "pycharm": {
     "name": "#%%\n"
    }
   },
   "outputs": [
    {
     "name": "stdout",
     "output_type": "stream",
     "text": [
      "Got excel data\n"
     ]
    }
   ],
   "source": [
    "files = {**struct, **base_atts, **cell_data}\n",
    "dfs = {f: worm_wiring.pull_xl_file(files[f]) for f in files}\n",
    "print('Got excel data')\n"
   ]
  },
  {
   "cell_type": "code",
   "execution_count": 5,
   "metadata": {
    "pycharm": {
     "name": "#%%\n"
    }
   },
   "outputs": [
    {
     "data": {
      "text/plain": "     0     1      2      3      4      5      6     7     8     9    ...  \\\n0    NaN  pns1  pns10  pns11  pns12  pns13  pns14  pns2  pns3  pns4  ...   \n1   pns1   NaN    NaN    NaN    NaN   0.96    NaN   NaN  0.12  0.18  ...   \n2  pns10  0.66    NaN   1.62   0.72   0.12    NaN   NaN   0.9  1.26  ...   \n3  pns11   NaN   0.42    NaN   0.18    NaN    NaN   NaN  0.24  0.12  ...   \n4  pns12  0.12   1.02   0.24    NaN   0.54    NaN   NaN  1.02  0.36  ...   \n\n    207   208   209  210   211  212   213   214      215    216  \n0  BTN2  BTN3  BTN4  mul  mulm  mur  murm    bm  bm-noto  Total  \n1   NaN   NaN   NaN  NaN   NaN  NaN   NaN  0.24      NaN   4.38  \n2   NaN   NaN   NaN  NaN   NaN  NaN   NaN   NaN      NaN  13.98  \n3   NaN   NaN   NaN  NaN   NaN  NaN   NaN   NaN      NaN  16.19  \n4   NaN   NaN   NaN  NaN   NaN  NaN   NaN   NaN      NaN  12.78  \n\n[5 rows x 217 columns]",
      "text/html": "<div>\n<style scoped>\n    .dataframe tbody tr th:only-of-type {\n        vertical-align: middle;\n    }\n\n    .dataframe tbody tr th {\n        vertical-align: top;\n    }\n\n    .dataframe thead th {\n        text-align: right;\n    }\n</style>\n<table border=\"1\" class=\"dataframe\">\n  <thead>\n    <tr style=\"text-align: right;\">\n      <th></th>\n      <th>0</th>\n      <th>1</th>\n      <th>2</th>\n      <th>3</th>\n      <th>4</th>\n      <th>5</th>\n      <th>6</th>\n      <th>7</th>\n      <th>8</th>\n      <th>9</th>\n      <th>...</th>\n      <th>207</th>\n      <th>208</th>\n      <th>209</th>\n      <th>210</th>\n      <th>211</th>\n      <th>212</th>\n      <th>213</th>\n      <th>214</th>\n      <th>215</th>\n      <th>216</th>\n    </tr>\n  </thead>\n  <tbody>\n    <tr>\n      <th>0</th>\n      <td>NaN</td>\n      <td>pns1</td>\n      <td>pns10</td>\n      <td>pns11</td>\n      <td>pns12</td>\n      <td>pns13</td>\n      <td>pns14</td>\n      <td>pns2</td>\n      <td>pns3</td>\n      <td>pns4</td>\n      <td>...</td>\n      <td>BTN2</td>\n      <td>BTN3</td>\n      <td>BTN4</td>\n      <td>mul</td>\n      <td>mulm</td>\n      <td>mur</td>\n      <td>murm</td>\n      <td>bm</td>\n      <td>bm-noto</td>\n      <td>Total</td>\n    </tr>\n    <tr>\n      <th>1</th>\n      <td>pns1</td>\n      <td>NaN</td>\n      <td>NaN</td>\n      <td>NaN</td>\n      <td>NaN</td>\n      <td>0.96</td>\n      <td>NaN</td>\n      <td>NaN</td>\n      <td>0.12</td>\n      <td>0.18</td>\n      <td>...</td>\n      <td>NaN</td>\n      <td>NaN</td>\n      <td>NaN</td>\n      <td>NaN</td>\n      <td>NaN</td>\n      <td>NaN</td>\n      <td>NaN</td>\n      <td>0.24</td>\n      <td>NaN</td>\n      <td>4.38</td>\n    </tr>\n    <tr>\n      <th>2</th>\n      <td>pns10</td>\n      <td>0.66</td>\n      <td>NaN</td>\n      <td>1.62</td>\n      <td>0.72</td>\n      <td>0.12</td>\n      <td>NaN</td>\n      <td>NaN</td>\n      <td>0.9</td>\n      <td>1.26</td>\n      <td>...</td>\n      <td>NaN</td>\n      <td>NaN</td>\n      <td>NaN</td>\n      <td>NaN</td>\n      <td>NaN</td>\n      <td>NaN</td>\n      <td>NaN</td>\n      <td>NaN</td>\n      <td>NaN</td>\n      <td>13.98</td>\n    </tr>\n    <tr>\n      <th>3</th>\n      <td>pns11</td>\n      <td>NaN</td>\n      <td>0.42</td>\n      <td>NaN</td>\n      <td>0.18</td>\n      <td>NaN</td>\n      <td>NaN</td>\n      <td>NaN</td>\n      <td>0.24</td>\n      <td>0.12</td>\n      <td>...</td>\n      <td>NaN</td>\n      <td>NaN</td>\n      <td>NaN</td>\n      <td>NaN</td>\n      <td>NaN</td>\n      <td>NaN</td>\n      <td>NaN</td>\n      <td>NaN</td>\n      <td>NaN</td>\n      <td>16.19</td>\n    </tr>\n    <tr>\n      <th>4</th>\n      <td>pns12</td>\n      <td>0.12</td>\n      <td>1.02</td>\n      <td>0.24</td>\n      <td>NaN</td>\n      <td>0.54</td>\n      <td>NaN</td>\n      <td>NaN</td>\n      <td>1.02</td>\n      <td>0.36</td>\n      <td>...</td>\n      <td>NaN</td>\n      <td>NaN</td>\n      <td>NaN</td>\n      <td>NaN</td>\n      <td>NaN</td>\n      <td>NaN</td>\n      <td>NaN</td>\n      <td>NaN</td>\n      <td>NaN</td>\n      <td>12.78</td>\n    </tr>\n  </tbody>\n</table>\n<p>5 rows × 217 columns</p>\n</div>"
     },
     "execution_count": 5,
     "metadata": {},
     "output_type": "execute_result"
    }
   ],
   "source": [
    "dfs['structure'][0].head()"
   ]
  },
  {
   "cell_type": "code",
   "execution_count": 6,
   "metadata": {
    "pycharm": {
     "name": "#%%\n"
    }
   },
   "outputs": [
    {
     "data": {
      "text/plain": "              0       1                        2  \\\n0  Abbreviation  Colour                Cell Type   \n1          PR-I     NaN    Type I Photoreceptors   \n2         PR-II     NaN   Type II Photoreceptors   \n3        PR-III     NaN  Type III Photoreceptors   \n4          Lens                       Lens cells   \n\n                                                   3  \\\n0                                    Characteristics   \n1                Outer segments into ocellus pigment   \n2  Outer segments directly into neural canal near...   \n3  Ventral vacuolated cells between Cor and lens ...   \n4  Large, vacuolated cells ventral to ocellus pig...   \n\n                                                   4                5  \\\n0                                           Subtypes  Number of cells   \n1  (osa, osd, osp: outer segments project to ante...               23   \n2  (osa, osd, osp: outer segments project to ante...                7   \n3                                                  -                6   \n4                                                  -                3   \n\n                                 6           7  \n0                         Cell IDs  Annotation  \n1                         pr1-pr23     Sensory  \n2                          pra-prg     Sensory  \n3  lens6-7, 84, 101, 110, 113, 114     Sensory  \n4              lens4, lens5, lens8   Accessory  ",
      "text/html": "<div>\n<style scoped>\n    .dataframe tbody tr th:only-of-type {\n        vertical-align: middle;\n    }\n\n    .dataframe tbody tr th {\n        vertical-align: top;\n    }\n\n    .dataframe thead th {\n        text-align: right;\n    }\n</style>\n<table border=\"1\" class=\"dataframe\">\n  <thead>\n    <tr style=\"text-align: right;\">\n      <th></th>\n      <th>0</th>\n      <th>1</th>\n      <th>2</th>\n      <th>3</th>\n      <th>4</th>\n      <th>5</th>\n      <th>6</th>\n      <th>7</th>\n    </tr>\n  </thead>\n  <tbody>\n    <tr>\n      <th>0</th>\n      <td>Abbreviation</td>\n      <td>Colour</td>\n      <td>Cell Type</td>\n      <td>Characteristics</td>\n      <td>Subtypes</td>\n      <td>Number of cells</td>\n      <td>Cell IDs</td>\n      <td>Annotation</td>\n    </tr>\n    <tr>\n      <th>1</th>\n      <td>PR-I</td>\n      <td>NaN</td>\n      <td>Type I Photoreceptors</td>\n      <td>Outer segments into ocellus pigment</td>\n      <td>(osa, osd, osp: outer segments project to ante...</td>\n      <td>23</td>\n      <td>pr1-pr23</td>\n      <td>Sensory</td>\n    </tr>\n    <tr>\n      <th>2</th>\n      <td>PR-II</td>\n      <td>NaN</td>\n      <td>Type II Photoreceptors</td>\n      <td>Outer segments directly into neural canal near...</td>\n      <td>(osa, osd, osp: outer segments project to ante...</td>\n      <td>7</td>\n      <td>pra-prg</td>\n      <td>Sensory</td>\n    </tr>\n    <tr>\n      <th>3</th>\n      <td>PR-III</td>\n      <td>NaN</td>\n      <td>Type III Photoreceptors</td>\n      <td>Ventral vacuolated cells between Cor and lens ...</td>\n      <td>-</td>\n      <td>6</td>\n      <td>lens6-7, 84, 101, 110, 113, 114</td>\n      <td>Sensory</td>\n    </tr>\n    <tr>\n      <th>4</th>\n      <td>Lens</td>\n      <td></td>\n      <td>Lens cells</td>\n      <td>Large, vacuolated cells ventral to ocellus pig...</td>\n      <td>-</td>\n      <td>3</td>\n      <td>lens4, lens5, lens8</td>\n      <td>Accessory</td>\n    </tr>\n  </tbody>\n</table>\n</div>"
     },
     "execution_count": 6,
     "metadata": {},
     "output_type": "execute_result"
    }
   ],
   "source": [
    "dfs['basic_atts'][0].head()"
   ]
  },
  {
   "cell_type": "markdown",
   "metadata": {
    "pycharm": {
     "name": "#%% md\n"
    }
   },
   "source": [
    "Find the connections and correctly label the nodes"
   ]
  },
  {
   "cell_type": "code",
   "execution_count": 7,
   "metadata": {
    "pycharm": {
     "name": "#%%\n"
    }
   },
   "outputs": [
    {
     "name": "stdout",
     "output_type": "stream",
     "text": [
      "{'pnw', '19', 'coronet10', '44', 'lens6', '40', 'coronet5'}\n",
      "{'mulm', '5', '35', '113', 'bm-noto', 'midtail7', 'coronet14', 'bm', 'pns2', 'coronet2', '181', 'murm', 'lens7', 'pns14', '57', 'mul', 'mur'}\n"
     ]
    }
   ],
   "source": [
    "def str_strip(item):\n",
    "    if type(item) is not str:\n",
    "        if math.isnan(item):\n",
    "            item = 'nan'\n",
    "        else:\n",
    "            item = int(item)\n",
    "    item = str(item)\n",
    "    item.strip()\n",
    "    return item\n",
    "adj = dfs['structure'][0]\n",
    "col_labels = list(adj.iloc[0, :])\n",
    "row_labels = list(adj.iloc[:, 0])\n",
    "col_labels = [str_strip(l) for l in col_labels]\n",
    "col_lab_set = set(col_labels)\n",
    "row_labels = {str_strip(l) for l in row_labels}\n",
    "joint_labels = col_lab_set.intersection(row_labels)\n",
    "to_add_c = row_labels - col_lab_set\n",
    "to_add_r = col_lab_set - row_labels \n",
    "print(to_add_c)\n",
    "print(to_add_r)"
   ]
  },
  {
   "cell_type": "code",
   "execution_count": 8,
   "metadata": {},
   "outputs": [
    {
     "data": {
      "text/plain": "nan    pns1 pns10 pns11 pns12 pns13 pns14 pns2  pns3  pns4  pns5  ...  BTN1  \\\n0                                                                 ...         \npns1      0     0     0     0  0.96     0    0  0.12  0.18  0.24  ...     0   \npns10  0.66     0  1.62  0.72  0.12     0    0   0.9  1.26     0  ...     0   \npns11     0  0.42     0  0.18     0     0    0  0.24  0.12     0  ...  0.47   \npns12  0.12  1.02  0.24     0  0.54     0    0  1.02  0.36     0  ...     0   \npns13  0.78     0     0     0     0     0    0  0.42  0.24     0  ...     0   \n\nnan   BTN2 BTN3 BTN4 mul mulm mur murm    bm bm-noto  \n0                                                     \npns1     0    0    0   0    0   0    0  0.24       0  \npns10    0    0    0   0    0   0    0     0       0  \npns11    0    0    0   0    0   0    0     0       0  \npns12    0    0    0   0    0   0    0     0       0  \npns13    0    0    0   0    0   0    0  0.18       0  \n\n[5 rows x 215 columns]",
      "text/html": "<div>\n<style scoped>\n    .dataframe tbody tr th:only-of-type {\n        vertical-align: middle;\n    }\n\n    .dataframe tbody tr th {\n        vertical-align: top;\n    }\n\n    .dataframe thead th {\n        text-align: right;\n    }\n</style>\n<table border=\"1\" class=\"dataframe\">\n  <thead>\n    <tr style=\"text-align: right;\">\n      <th>nan</th>\n      <th>pns1</th>\n      <th>pns10</th>\n      <th>pns11</th>\n      <th>pns12</th>\n      <th>pns13</th>\n      <th>pns14</th>\n      <th>pns2</th>\n      <th>pns3</th>\n      <th>pns4</th>\n      <th>pns5</th>\n      <th>...</th>\n      <th>BTN1</th>\n      <th>BTN2</th>\n      <th>BTN3</th>\n      <th>BTN4</th>\n      <th>mul</th>\n      <th>mulm</th>\n      <th>mur</th>\n      <th>murm</th>\n      <th>bm</th>\n      <th>bm-noto</th>\n    </tr>\n    <tr>\n      <th>0</th>\n      <th></th>\n      <th></th>\n      <th></th>\n      <th></th>\n      <th></th>\n      <th></th>\n      <th></th>\n      <th></th>\n      <th></th>\n      <th></th>\n      <th></th>\n      <th></th>\n      <th></th>\n      <th></th>\n      <th></th>\n      <th></th>\n      <th></th>\n      <th></th>\n      <th></th>\n      <th></th>\n      <th></th>\n    </tr>\n  </thead>\n  <tbody>\n    <tr>\n      <th>pns1</th>\n      <td>0</td>\n      <td>0</td>\n      <td>0</td>\n      <td>0</td>\n      <td>0.96</td>\n      <td>0</td>\n      <td>0</td>\n      <td>0.12</td>\n      <td>0.18</td>\n      <td>0.24</td>\n      <td>...</td>\n      <td>0</td>\n      <td>0</td>\n      <td>0</td>\n      <td>0</td>\n      <td>0</td>\n      <td>0</td>\n      <td>0</td>\n      <td>0</td>\n      <td>0.24</td>\n      <td>0</td>\n    </tr>\n    <tr>\n      <th>pns10</th>\n      <td>0.66</td>\n      <td>0</td>\n      <td>1.62</td>\n      <td>0.72</td>\n      <td>0.12</td>\n      <td>0</td>\n      <td>0</td>\n      <td>0.9</td>\n      <td>1.26</td>\n      <td>0</td>\n      <td>...</td>\n      <td>0</td>\n      <td>0</td>\n      <td>0</td>\n      <td>0</td>\n      <td>0</td>\n      <td>0</td>\n      <td>0</td>\n      <td>0</td>\n      <td>0</td>\n      <td>0</td>\n    </tr>\n    <tr>\n      <th>pns11</th>\n      <td>0</td>\n      <td>0.42</td>\n      <td>0</td>\n      <td>0.18</td>\n      <td>0</td>\n      <td>0</td>\n      <td>0</td>\n      <td>0.24</td>\n      <td>0.12</td>\n      <td>0</td>\n      <td>...</td>\n      <td>0.47</td>\n      <td>0</td>\n      <td>0</td>\n      <td>0</td>\n      <td>0</td>\n      <td>0</td>\n      <td>0</td>\n      <td>0</td>\n      <td>0</td>\n      <td>0</td>\n    </tr>\n    <tr>\n      <th>pns12</th>\n      <td>0.12</td>\n      <td>1.02</td>\n      <td>0.24</td>\n      <td>0</td>\n      <td>0.54</td>\n      <td>0</td>\n      <td>0</td>\n      <td>1.02</td>\n      <td>0.36</td>\n      <td>0</td>\n      <td>...</td>\n      <td>0</td>\n      <td>0</td>\n      <td>0</td>\n      <td>0</td>\n      <td>0</td>\n      <td>0</td>\n      <td>0</td>\n      <td>0</td>\n      <td>0</td>\n      <td>0</td>\n    </tr>\n    <tr>\n      <th>pns13</th>\n      <td>0.78</td>\n      <td>0</td>\n      <td>0</td>\n      <td>0</td>\n      <td>0</td>\n      <td>0</td>\n      <td>0</td>\n      <td>0.42</td>\n      <td>0.24</td>\n      <td>0</td>\n      <td>...</td>\n      <td>0</td>\n      <td>0</td>\n      <td>0</td>\n      <td>0</td>\n      <td>0</td>\n      <td>0</td>\n      <td>0</td>\n      <td>0</td>\n      <td>0.18</td>\n      <td>0</td>\n    </tr>\n  </tbody>\n</table>\n<p>5 rows × 215 columns</p>\n</div>"
     },
     "execution_count": 8,
     "metadata": {},
     "output_type": "execute_result"
    }
   ],
   "source": [
    "# process the structure\n",
    "common_adj = adj.copy()\n",
    "common_adj.iloc[1:, 1:] = common_adj.iloc[1:, 1:].fillna(0)\n",
    "new_index = common_adj[0].apply(str_strip)\n",
    "common_adj = common_adj.set_index(new_index)\n",
    "common_adj.columns = common_adj.iloc[0, :].apply(str_strip)\n",
    "common_adj.drop(common_adj.index[0], axis=0, inplace=True)\n",
    "common_adj.drop(common_adj.columns[0], axis=1, inplace=True)\n",
    "common_adj.drop('Total', axis=0, inplace=True)\n",
    "common_adj.drop('Total', axis=1, inplace=True)\n",
    "common_adj.head()"
   ]
  },
  {
   "cell_type": "code",
   "execution_count": 9,
   "metadata": {
    "pycharm": {
     "name": "#%%\n"
    }
   },
   "outputs": [
    {
     "data": {
      "text/plain": "nan    pns1 pns10 pns11 pns12 pns13 pns14 pns2  pns3  pns4  pns5  ... murm  \\\n0                                                                 ...        \npns1      0     0     0     0  0.96     0    0  0.12  0.18  0.24  ...    0   \npns10  0.66     0  1.62  0.72  0.12     0    0   0.9  1.26     0  ...    0   \npns11     0  0.42     0  0.18     0     0    0  0.24  0.12     0  ...    0   \npns12  0.12  1.02  0.24     0  0.54     0    0  1.02  0.36     0  ...    0   \npns13  0.78     0     0     0     0     0    0  0.42  0.24     0  ...    0   \n\nnan      bm bm-noto  pnw   19 coronet10   44 lens6   40 coronet5  \n0                                                                 \npns1   0.24       0  0.0  0.0       0.0  0.0   0.0  0.0      0.0  \npns10     0       0  0.0  0.0       0.0  0.0   0.0  0.0      0.0  \npns11     0       0  0.0  0.0       0.0  0.0   0.0  0.0      0.0  \npns12     0       0  0.0  0.0       0.0  0.0   0.0  0.0      0.0  \npns13  0.18       0  0.0  0.0       0.0  0.0   0.0  0.0      0.0  \n\n[5 rows x 222 columns]",
      "text/html": "<div>\n<style scoped>\n    .dataframe tbody tr th:only-of-type {\n        vertical-align: middle;\n    }\n\n    .dataframe tbody tr th {\n        vertical-align: top;\n    }\n\n    .dataframe thead th {\n        text-align: right;\n    }\n</style>\n<table border=\"1\" class=\"dataframe\">\n  <thead>\n    <tr style=\"text-align: right;\">\n      <th>nan</th>\n      <th>pns1</th>\n      <th>pns10</th>\n      <th>pns11</th>\n      <th>pns12</th>\n      <th>pns13</th>\n      <th>pns14</th>\n      <th>pns2</th>\n      <th>pns3</th>\n      <th>pns4</th>\n      <th>pns5</th>\n      <th>...</th>\n      <th>murm</th>\n      <th>bm</th>\n      <th>bm-noto</th>\n      <th>pnw</th>\n      <th>19</th>\n      <th>coronet10</th>\n      <th>44</th>\n      <th>lens6</th>\n      <th>40</th>\n      <th>coronet5</th>\n    </tr>\n    <tr>\n      <th>0</th>\n      <th></th>\n      <th></th>\n      <th></th>\n      <th></th>\n      <th></th>\n      <th></th>\n      <th></th>\n      <th></th>\n      <th></th>\n      <th></th>\n      <th></th>\n      <th></th>\n      <th></th>\n      <th></th>\n      <th></th>\n      <th></th>\n      <th></th>\n      <th></th>\n      <th></th>\n      <th></th>\n      <th></th>\n    </tr>\n  </thead>\n  <tbody>\n    <tr>\n      <th>pns1</th>\n      <td>0</td>\n      <td>0</td>\n      <td>0</td>\n      <td>0</td>\n      <td>0.96</td>\n      <td>0</td>\n      <td>0</td>\n      <td>0.12</td>\n      <td>0.18</td>\n      <td>0.24</td>\n      <td>...</td>\n      <td>0</td>\n      <td>0.24</td>\n      <td>0</td>\n      <td>0.0</td>\n      <td>0.0</td>\n      <td>0.0</td>\n      <td>0.0</td>\n      <td>0.0</td>\n      <td>0.0</td>\n      <td>0.0</td>\n    </tr>\n    <tr>\n      <th>pns10</th>\n      <td>0.66</td>\n      <td>0</td>\n      <td>1.62</td>\n      <td>0.72</td>\n      <td>0.12</td>\n      <td>0</td>\n      <td>0</td>\n      <td>0.9</td>\n      <td>1.26</td>\n      <td>0</td>\n      <td>...</td>\n      <td>0</td>\n      <td>0</td>\n      <td>0</td>\n      <td>0.0</td>\n      <td>0.0</td>\n      <td>0.0</td>\n      <td>0.0</td>\n      <td>0.0</td>\n      <td>0.0</td>\n      <td>0.0</td>\n    </tr>\n    <tr>\n      <th>pns11</th>\n      <td>0</td>\n      <td>0.42</td>\n      <td>0</td>\n      <td>0.18</td>\n      <td>0</td>\n      <td>0</td>\n      <td>0</td>\n      <td>0.24</td>\n      <td>0.12</td>\n      <td>0</td>\n      <td>...</td>\n      <td>0</td>\n      <td>0</td>\n      <td>0</td>\n      <td>0.0</td>\n      <td>0.0</td>\n      <td>0.0</td>\n      <td>0.0</td>\n      <td>0.0</td>\n      <td>0.0</td>\n      <td>0.0</td>\n    </tr>\n    <tr>\n      <th>pns12</th>\n      <td>0.12</td>\n      <td>1.02</td>\n      <td>0.24</td>\n      <td>0</td>\n      <td>0.54</td>\n      <td>0</td>\n      <td>0</td>\n      <td>1.02</td>\n      <td>0.36</td>\n      <td>0</td>\n      <td>...</td>\n      <td>0</td>\n      <td>0</td>\n      <td>0</td>\n      <td>0.0</td>\n      <td>0.0</td>\n      <td>0.0</td>\n      <td>0.0</td>\n      <td>0.0</td>\n      <td>0.0</td>\n      <td>0.0</td>\n    </tr>\n    <tr>\n      <th>pns13</th>\n      <td>0.78</td>\n      <td>0</td>\n      <td>0</td>\n      <td>0</td>\n      <td>0</td>\n      <td>0</td>\n      <td>0</td>\n      <td>0.42</td>\n      <td>0.24</td>\n      <td>0</td>\n      <td>...</td>\n      <td>0</td>\n      <td>0.18</td>\n      <td>0</td>\n      <td>0.0</td>\n      <td>0.0</td>\n      <td>0.0</td>\n      <td>0.0</td>\n      <td>0.0</td>\n      <td>0.0</td>\n      <td>0.0</td>\n    </tr>\n  </tbody>\n</table>\n<p>5 rows × 222 columns</p>\n</div>"
     },
     "execution_count": 9,
     "metadata": {},
     "output_type": "execute_result"
    }
   ],
   "source": [
    "for item in to_add_c:\n",
    "    common_adj[item] = [0 for _ in range(len(common_adj.index))]\n",
    "\n",
    "for item in to_add_r:\n",
    "    item_dict = {c:0 for c in common_adj.columns[1:]}\n",
    "    common_adj = common_adj.append(pd.Series(item_dict, name=item))\n",
    "common_adj.head()\n",
    "\n"
   ]
  },
  {
   "cell_type": "code",
   "execution_count": 10,
   "metadata": {},
   "outputs": [
    {
     "data": {
      "text/plain": "nan    1  100   101  103   105   106   107   108   110   112  ...  prb  prc  \\\n0                                                             ...             \n1    0.0  0.0  0.00  0.0  0.00  0.00  0.00  0.00  0.00  0.00  ...    0    0   \n100  0.0  0.3  0.00  0.0  0.54  0.12  0.00  0.00  0.00  1.38  ...    0    0   \n101  0.0  0.0  0.18  0.0  0.30  0.00  0.18  0.00  0.18  0.00  ...    0    0   \n103  0.0  0.0  0.00  0.0  0.00  0.54  0.00  0.42  0.00  0.30  ...    0    0   \n105  0.0  0.6  0.06  0.0  0.00  0.18  0.00  0.12  0.00  0.00  ...    0    0   \n\nnan  prd  pre  prf  prg  trIN   ukn  ukn2  vacIN1  \n0                                                  \n1      0    0    0    0     0     0     0       0  \n100    0    0    0    0  0.06     0  0.36       0  \n101    0    0    0    0     0     0     0       0  \n103    0    0    0    0     0     0     0       0  \n105    0    0    0    0     0  0.24     0       0  \n\n[5 rows x 222 columns]",
      "text/html": "<div>\n<style scoped>\n    .dataframe tbody tr th:only-of-type {\n        vertical-align: middle;\n    }\n\n    .dataframe tbody tr th {\n        vertical-align: top;\n    }\n\n    .dataframe thead th {\n        text-align: right;\n    }\n</style>\n<table border=\"1\" class=\"dataframe\">\n  <thead>\n    <tr style=\"text-align: right;\">\n      <th>nan</th>\n      <th>1</th>\n      <th>100</th>\n      <th>101</th>\n      <th>103</th>\n      <th>105</th>\n      <th>106</th>\n      <th>107</th>\n      <th>108</th>\n      <th>110</th>\n      <th>112</th>\n      <th>...</th>\n      <th>prb</th>\n      <th>prc</th>\n      <th>prd</th>\n      <th>pre</th>\n      <th>prf</th>\n      <th>prg</th>\n      <th>trIN</th>\n      <th>ukn</th>\n      <th>ukn2</th>\n      <th>vacIN1</th>\n    </tr>\n    <tr>\n      <th>0</th>\n      <th></th>\n      <th></th>\n      <th></th>\n      <th></th>\n      <th></th>\n      <th></th>\n      <th></th>\n      <th></th>\n      <th></th>\n      <th></th>\n      <th></th>\n      <th></th>\n      <th></th>\n      <th></th>\n      <th></th>\n      <th></th>\n      <th></th>\n      <th></th>\n      <th></th>\n      <th></th>\n      <th></th>\n    </tr>\n  </thead>\n  <tbody>\n    <tr>\n      <th>1</th>\n      <td>0.0</td>\n      <td>0.0</td>\n      <td>0.00</td>\n      <td>0.0</td>\n      <td>0.00</td>\n      <td>0.00</td>\n      <td>0.00</td>\n      <td>0.00</td>\n      <td>0.00</td>\n      <td>0.00</td>\n      <td>...</td>\n      <td>0</td>\n      <td>0</td>\n      <td>0</td>\n      <td>0</td>\n      <td>0</td>\n      <td>0</td>\n      <td>0</td>\n      <td>0</td>\n      <td>0</td>\n      <td>0</td>\n    </tr>\n    <tr>\n      <th>100</th>\n      <td>0.0</td>\n      <td>0.3</td>\n      <td>0.00</td>\n      <td>0.0</td>\n      <td>0.54</td>\n      <td>0.12</td>\n      <td>0.00</td>\n      <td>0.00</td>\n      <td>0.00</td>\n      <td>1.38</td>\n      <td>...</td>\n      <td>0</td>\n      <td>0</td>\n      <td>0</td>\n      <td>0</td>\n      <td>0</td>\n      <td>0</td>\n      <td>0.06</td>\n      <td>0</td>\n      <td>0.36</td>\n      <td>0</td>\n    </tr>\n    <tr>\n      <th>101</th>\n      <td>0.0</td>\n      <td>0.0</td>\n      <td>0.18</td>\n      <td>0.0</td>\n      <td>0.30</td>\n      <td>0.00</td>\n      <td>0.18</td>\n      <td>0.00</td>\n      <td>0.18</td>\n      <td>0.00</td>\n      <td>...</td>\n      <td>0</td>\n      <td>0</td>\n      <td>0</td>\n      <td>0</td>\n      <td>0</td>\n      <td>0</td>\n      <td>0</td>\n      <td>0</td>\n      <td>0</td>\n      <td>0</td>\n    </tr>\n    <tr>\n      <th>103</th>\n      <td>0.0</td>\n      <td>0.0</td>\n      <td>0.00</td>\n      <td>0.0</td>\n      <td>0.00</td>\n      <td>0.54</td>\n      <td>0.00</td>\n      <td>0.42</td>\n      <td>0.00</td>\n      <td>0.30</td>\n      <td>...</td>\n      <td>0</td>\n      <td>0</td>\n      <td>0</td>\n      <td>0</td>\n      <td>0</td>\n      <td>0</td>\n      <td>0</td>\n      <td>0</td>\n      <td>0</td>\n      <td>0</td>\n    </tr>\n    <tr>\n      <th>105</th>\n      <td>0.0</td>\n      <td>0.6</td>\n      <td>0.06</td>\n      <td>0.0</td>\n      <td>0.00</td>\n      <td>0.18</td>\n      <td>0.00</td>\n      <td>0.12</td>\n      <td>0.00</td>\n      <td>0.00</td>\n      <td>...</td>\n      <td>0</td>\n      <td>0</td>\n      <td>0</td>\n      <td>0</td>\n      <td>0</td>\n      <td>0</td>\n      <td>0</td>\n      <td>0.24</td>\n      <td>0</td>\n      <td>0</td>\n    </tr>\n  </tbody>\n</table>\n<p>5 rows × 222 columns</p>\n</div>"
     },
     "execution_count": 10,
     "metadata": {},
     "output_type": "execute_result"
    }
   ],
   "source": [
    "common_adj.sort_index(axis=0, inplace=True)\n",
    "common_adj.sort_index(axis=1, inplace=True)\n",
    "common_adj.head()"
   ]
  },
  {
   "cell_type": "code",
   "execution_count": 11,
   "metadata": {},
   "outputs": [
    {
     "name": "stdout",
     "output_type": "stream",
     "text": [
      "got adj to nx\n"
     ]
    }
   ],
   "source": [
    "if list(common_adj.index) != list(common_adj.columns):\n",
    "    print((set(common_adj.index) | set(common_adj.columns)) - (set(common_adj.index).intersection(set(common_adj.columns))))\n",
    "    raise ValueError\n",
    "common_adj.iloc[:, :] = common_adj.values.astype(np.float)\n",
    "graph = nx.from_pandas_adjacency(common_adj, create_using=nx.DiGraph)\n",
    "# np_adj = common_adj.values.astype(np.float)\n",
    "# np.nan_to_num(np_adj, 0.)\n",
    "# graph = nx.from_numpy_matrix(np_adj, parallel_edges=False, create_using=nx.DiGraph)\n",
    "print('got adj to nx')"
   ]
  },
  {
   "cell_type": "markdown",
   "metadata": {
    "pycharm": {
     "name": "#%% md\n"
    }
   },
   "source": [
    "Get node attribute data"
   ]
  },
  {
   "cell_type": "code",
   "execution_count": 12,
   "metadata": {
    "pycharm": {
     "name": "#%%\n"
    }
   },
   "outputs": [
    {
     "name": "stderr",
     "output_type": "stream",
     "text": [
      "/home/spencerloggia/anaconda3/envs/graspy/lib/python3.7/site-packages/ipykernel_launcher.py:5: SettingWithCopyWarning: \n",
      "A value is trying to be set on a copy of a slice from a DataFrame.\n",
      "Try using .loc[row_indexer,col_indexer] = value instead\n",
      "\n",
      "See the caveats in the documentation: https://pandas.pydata.org/pandas-docs/stable/user_guide/indexing.html#returning-a-view-versus-a-copy\n",
      "  \"\"\"\n"
     ]
    },
    {
     "data": {
      "text/plain": "   Cell ID     Cell Type        Ciliated           Side  Brain Region     X  \\\n0  Cell ID     Cell Type        Ciliated  Soma location           NaN   NaN   \n1      nan           NaN             NaN           Side  Brain region    Z    \n2        1  cor-ass BVIN  ciliated to bp              L   anterior BV  0.83   \n3        2  cor-ass BVIN  ciliated to bp              L   anterior BV  1.25   \n4        3          BVIN        ciliated              L   anterior BV  0.17   \n\n      Y     Z                             Morphology Description  \\\n0   NaN   NaN                                         Morphology   \n1     X     Y                                                NaN   \n2   9.5  30.6  Single simple axon with slight expansion at te...   \n3  16.5  32.8  Simple cell with single unbranched axon to pos...   \n4  23.2  31.9  Simple cell body with single axon that expands...   \n\n   Cell Body Volume  Number of Pre-Synaptic Sites  \\\n0  Cell body volume  Number of pre-synaptic sites   \n1               NaN                           NaN   \n2           94.7191                             2   \n3            100.91                            12   \n4           24.3679                             6   \n\n   Number of Post-Synaptic Sites  Number of Putative Gap Junctions  \n0  Number of post-synaptic sites  Number of putative gap junctions  \n1                            NaN                               NaN  \n2                             21                                 -  \n3                             14                                 2  \n4                              5                                 2  ",
      "text/html": "<div>\n<style scoped>\n    .dataframe tbody tr th:only-of-type {\n        vertical-align: middle;\n    }\n\n    .dataframe tbody tr th {\n        vertical-align: top;\n    }\n\n    .dataframe thead th {\n        text-align: right;\n    }\n</style>\n<table border=\"1\" class=\"dataframe\">\n  <thead>\n    <tr style=\"text-align: right;\">\n      <th></th>\n      <th>Cell ID</th>\n      <th>Cell Type</th>\n      <th>Ciliated</th>\n      <th>Side</th>\n      <th>Brain Region</th>\n      <th>X</th>\n      <th>Y</th>\n      <th>Z</th>\n      <th>Morphology Description</th>\n      <th>Cell Body Volume</th>\n      <th>Number of Pre-Synaptic Sites</th>\n      <th>Number of Post-Synaptic Sites</th>\n      <th>Number of Putative Gap Junctions</th>\n    </tr>\n  </thead>\n  <tbody>\n    <tr>\n      <th>0</th>\n      <td>Cell ID</td>\n      <td>Cell Type</td>\n      <td>Ciliated</td>\n      <td>Soma location</td>\n      <td>NaN</td>\n      <td>NaN</td>\n      <td>NaN</td>\n      <td>NaN</td>\n      <td>Morphology</td>\n      <td>Cell body volume</td>\n      <td>Number of pre-synaptic sites</td>\n      <td>Number of post-synaptic sites</td>\n      <td>Number of putative gap junctions</td>\n    </tr>\n    <tr>\n      <th>1</th>\n      <td>nan</td>\n      <td>NaN</td>\n      <td>NaN</td>\n      <td>Side</td>\n      <td>Brain region</td>\n      <td>Z</td>\n      <td>X</td>\n      <td>Y</td>\n      <td>NaN</td>\n      <td>NaN</td>\n      <td>NaN</td>\n      <td>NaN</td>\n      <td>NaN</td>\n    </tr>\n    <tr>\n      <th>2</th>\n      <td>1</td>\n      <td>cor-ass BVIN</td>\n      <td>ciliated to bp</td>\n      <td>L</td>\n      <td>anterior BV</td>\n      <td>0.83</td>\n      <td>9.5</td>\n      <td>30.6</td>\n      <td>Single simple axon with slight expansion at te...</td>\n      <td>94.7191</td>\n      <td>2</td>\n      <td>21</td>\n      <td>-</td>\n    </tr>\n    <tr>\n      <th>3</th>\n      <td>2</td>\n      <td>cor-ass BVIN</td>\n      <td>ciliated to bp</td>\n      <td>L</td>\n      <td>anterior BV</td>\n      <td>1.25</td>\n      <td>16.5</td>\n      <td>32.8</td>\n      <td>Simple cell with single unbranched axon to pos...</td>\n      <td>100.91</td>\n      <td>12</td>\n      <td>14</td>\n      <td>2</td>\n    </tr>\n    <tr>\n      <th>4</th>\n      <td>3</td>\n      <td>BVIN</td>\n      <td>ciliated</td>\n      <td>L</td>\n      <td>anterior BV</td>\n      <td>0.17</td>\n      <td>23.2</td>\n      <td>31.9</td>\n      <td>Simple cell body with single axon that expands...</td>\n      <td>24.3679</td>\n      <td>6</td>\n      <td>5</td>\n      <td>2</td>\n    </tr>\n  </tbody>\n</table>\n</div>"
     },
     "execution_count": 12,
     "metadata": {},
     "output_type": "execute_result"
    }
   ],
   "source": [
    "cell_bio_data = dfs['cell_bio_data'][0].iloc[:, list(range(13))]\n",
    "man_cols = ['Cell ID', 'Cell Type', 'Ciliated', 'Side', 'Brain Region', 'X', 'Y', 'Z', 'Morphology Description', 'Cell Body Volume', 'Number of Pre-Synaptic Sites', 'Number of Post-Synaptic Sites', 'Number of Putative Gap Junctions']\n",
    "cell_bio_data.columns = man_cols\n",
    "cell_bio_data.drop(cell_bio_data.index[[0, 1]])\n",
    "cell_bio_data['Cell ID'] = pd.DataFrame(cell_bio_data['Cell ID']).applymap(str_strip)\n",
    "cell_bio_data.head()"
   ]
  },
  {
   "cell_type": "code",
   "execution_count": 13,
   "metadata": {
    "pycharm": {
     "name": "#%%\n"
    }
   },
   "outputs": [
    {
     "name": "stdout",
     "output_type": "stream",
     "text": [
      "{'Cell ID': '1', 'Cell Type': 'cor-ass BVIN', 'Ciliated': 'ciliated to bp', 'Side': 'L', 'Brain Region': 'anterior BV', 'X': 0.8300000000000003, 'Y': 9.5, 'Z': 30.6, 'Morphology Description': 'Single simple axon with slight expansion at terminal in PBV', 'Cell Body Volume': 94.7191, 'Number of Pre-Synaptic Sites': 2, 'Number of Post-Synaptic Sites': 21, 'Number of Putative Gap Junctions': '-'}\n",
      "{'Cell ID': '100', 'Cell Type': 'prRN', 'Ciliated': 'no vacuole or membrane contact, does not enter canal', 'Side': 'L', 'Brain Region': 'posterior BV', 'X': 22.24999999999994, 'Y': 14.77, 'Z': 32.17, 'Morphology Description': 'multiple branches from main axon initial region, axon then bifurcates to form two collateral branches, one terminating in anterior MG the other in posterior MG, both simple terminals', 'Cell Body Volume': 317.27, 'Number of Pre-Synaptic Sites': 56, 'Number of Post-Synaptic Sites': 90, 'Number of Putative Gap Junctions': 22}\n",
      "{'Cell ID': '103', 'Cell Type': 'non-sensory RN', 'Ciliated': 'anterior end terminates at membrane of 80 with syn, does not enter canal', 'Side': 'DL', 'Brain Region': 'posterior BV', 'X': 21.70999999999994, 'Y': 25.8, 'Z': 33.9, 'Morphology Description': 'Medium axon with mid length short ascending branch and slightly elongate claw terminal', 'Cell Body Volume': 164.16, 'Number of Pre-Synaptic Sites': 39, 'Number of Post-Synaptic Sites': 36, 'Number of Putative Gap Junctions': 11}\n",
      "{'Cell ID': '105', 'Cell Type': 'pr-cor RN', 'Ciliated': '\\xa0to vacuole at posterior but no membrane contact, does not enter canal', 'Side': 'VM', 'Brain Region': 'posterior BV', 'X': 22.42999999999994, 'Y': 9, 'Z': 11.6, 'Morphology Description': 'Tapered cell body with anterior dendrite, axon emerges dorsally from mid-soma, axon bifurcates to one short fine branch and one large persistant axon toward posterior, small club-shaped terminal in posterior MG', 'Cell Body Volume': 430.718, 'Number of Pre-Synaptic Sites': 58, 'Number of Post-Synaptic Sites': 102, 'Number of Putative Gap Junctions': 32}\n",
      "{'Cell ID': '106', 'Cell Type': 'non-sensory RN', 'Ciliated': 'to membrane opposite cell 93, does not enter canal', 'Side': 'VL', 'Brain Region': 'posterior BV', 'X': 21.70999999999994, 'Y': 20.4, 'Z': 32.9, 'Morphology Description': 'wiggly axon with expansions nearing terminal and simple terminal', 'Cell Body Volume': 112.154, 'Number of Pre-Synaptic Sites': 29, 'Number of Post-Synaptic Sites': 31, 'Number of Putative Gap Junctions': 16}\n",
      "{'Cell ID': '108', 'Cell Type': 'pr-AMG RN', 'Ciliated': 'to vacuole at anterior but no membrane contact, does not enter canal', 'Side': 'R', 'Brain Region': 'posterior BV', 'X': 22.78999999999994, 'Y': 30, 'Z': 14.5, 'Morphology Description': 'Short anterior dendrite, simple cell body with axon projecting ventroposteriorly to form simple simple terminal in the MG', 'Cell Body Volume': 187.563, 'Number of Pre-Synaptic Sites': 33, 'Number of Post-Synaptic Sites': 26, 'Number of Putative Gap Junctions': 7}\n",
      "{'Cell ID': '112', 'Cell Type': 'pr-cor RN', 'Ciliated': '\\xa0no vacuole or membrane contact, does not enter canal', 'Side': 'VL', 'Brain Region': 'posterior BV', 'X': 22.78999999999994, 'Y': 8.8, 'Z': 26.6, 'Morphology Description': 'Round cell body, thick axon extends dorsally from cell body then turns 90 degrees with short thick branches at anterior posrtion, thick axon with simple terminal', 'Cell Body Volume': 306.63, 'Number of Pre-Synaptic Sites': 47, 'Number of Post-Synaptic Sites': 75, 'Number of Putative Gap Junctions': 15}\n",
      "{'Cell ID': '116', 'Cell Type': 'pr-AMG RN', 'Ciliated': 'to vacuole but no membrane contact, does not enter canal', 'Side': 'R', 'Brain Region': 'posterior BV', 'X': 23.269999999999936, 'Y': 23, 'Z': 14.9, 'Morphology Description': '2-lobed soma, thick axon with short branch to anterior in PBV and swellings toward simple terminal in anterior MG', 'Cell Body Volume': 194.617, 'Number of Pre-Synaptic Sites': 32, 'Number of Post-Synaptic Sites': 78, 'Number of Putative Gap Junctions': 6}\n",
      "{'Cell ID': '119', 'Cell Type': 'pr-cor RN', 'Ciliated': 'to vacuole but no membrane contact, does not enter canal', 'Side': 'VL', 'Brain Region': 'posterior BV', 'X': 23.749999999999932, 'Y': 5.8, 'Z': 14.3, 'Morphology Description': 'Round cell body with axon projecting dorsally from mid-soma neuron with short branches along anterior axon, simple terminal in MG', 'Cell Body Volume': 314.526, 'Number of Pre-Synaptic Sites': 35, 'Number of Post-Synaptic Sites': 91, 'Number of Putative Gap Junctions': 13}\n",
      "{'Cell ID': '120', 'Cell Type': 'AntRN', 'Ciliated': 'no vacuole or membrane contact, does not enter canal', 'Side': 'VR', 'Brain Region': 'posterior BV', 'X': 25.669999999999927, 'Y': 9.2, 'Z': 4.8, 'Morphology Description': 'Large neuron with varicosities along length of axon', 'Cell Body Volume': 453.558, 'Number of Pre-Synaptic Sites': 91, 'Number of Post-Synaptic Sites': 135, 'Number of Putative Gap Junctions': 87}\n",
      "{'Cell ID': '121', 'Cell Type': 'prRN', 'Ciliated': 'to vacuole at anterior to contact membrane of 126 with syn, does not enter canal', 'Side': 'DL', 'Brain Region': 'posterior BV', 'X': 24.469999999999928, 'Y': 22.7, 'Z': 25, 'Morphology Description': 'Elongate cell body, simple axon, bends in MG and expands to simple terminal', 'Cell Body Volume': 265.774, 'Number of Pre-Synaptic Sites': 29, 'Number of Post-Synaptic Sites': 118, 'Number of Putative Gap Junctions': 6}\n",
      "{'Cell ID': '122', 'Cell Type': 'non-sensory RN', 'Ciliated': 'to vacuole at anterior to contact membrane of 42 with synapse, does not enter canal', 'Side': 'DL', 'Brain Region': 'posterior BV', 'X': 24.47, 'Y': 24.4, 'Z': 31.9, 'Morphology Description': 'slight expansion near anterior of axon then extends to form polygonal terminal', 'Cell Body Volume': 123.007, 'Number of Pre-Synaptic Sites': 30, 'Number of Post-Synaptic Sites': 23, 'Number of Putative Gap Junctions': 3}\n",
      "{'Cell ID': '123', 'Cell Type': 'pr-BTN RN', 'Ciliated': 'to vacuole at anterior to contact membrane of 92 and 96, does not enter canal', 'Side': 'R', 'Brain Region': 'posterior BV', 'X': 25.009999999999927, 'Y': 23, 'Z': 9.6, 'Morphology Description': 'U-shaped soma with tails joined by branch, short fine ventral dendrites from cell body and axon hillock, long axon with simple terminal in posterior MG', 'Cell Body Volume': 388.054, 'Number of Pre-Synaptic Sites': 56, 'Number of Post-Synaptic Sites': 124, 'Number of Putative Gap Junctions': 8}\n",
      "{'Cell ID': '124', 'Cell Type': 'pr-AMG RN', 'Ciliated': 'Toward membrane with cell 140, does not enter canal', 'Side': 'DM', 'Brain Region': 'posterior BV', 'X': 25.009999999999927, 'Y': 28.8, 'Z': 19.4, 'Morphology Description': 'Teardrop shaped cell body with short anterior dendrite, thick ventroposterior projecting axon with short lateral branching near axon hillock and in the MG at elongated terminal', 'Cell Body Volume': 186.508, 'Number of Pre-Synaptic Sites': 20, 'Number of Post-Synaptic Sites': 51, 'Number of Putative Gap Junctions': 5}\n",
      "{'Cell ID': '125', 'Cell Type': 'non-sensory RN', 'Ciliated': 'to vacuole at anterior but no membrane contact, does not enter canal', 'Side': 'DL', 'Brain Region': 'posterior BV', 'X': 26.209999999999926, 'Y': 21.5, 'Z': 30.2, 'Morphology Description': 'Step shaped initial axon, 2 90 degree turns in a row, then minor expansion at mid-axon, and expanded terminal', 'Cell Body Volume': 303.075, 'Number of Pre-Synaptic Sites': 31, 'Number of Post-Synaptic Sites': 46, 'Number of Putative Gap Junctions': 4}\n",
      "{'Cell ID': '126', 'Cell Type': 'prRN', 'Ciliated': 'to vacuole at anterior near canal but does not exit cell', 'Side': 'L', 'Brain Region': 'posterior BV', 'X': 25.969999999999928, 'Y': 20, 'Z': 25.5, 'Morphology Description': 'Two thick dendrites from cell body, thick axon with minimal branching and expanded terminal in MG', 'Cell Body Volume': 277.016, 'Number of Pre-Synaptic Sites': 48, 'Number of Post-Synaptic Sites': 99, 'Number of Putative Gap Junctions': 8}\n",
      "{'Cell ID': '127', 'Cell Type': 'pr-AMG RN', 'Ciliated': 'no vacuole or membrane contact, does not enter canal', 'Side': 'DR', 'Brain Region': 'posterior BV', 'X': 25.969999999999928, 'Y': 34.5, 'Z': 16.4, 'Morphology Description': 'Teardrop shaped cell body with fine anterior dendrites, axon projects ventroposteriorly with short branch mid-axon, terminal in anterior MG with expanded branches.', 'Cell Body Volume': 203.724, 'Number of Pre-Synaptic Sites': 35, 'Number of Post-Synaptic Sites': 54, 'Number of Putative Gap Junctions': 4}\n",
      "{'Cell ID': '13', 'Cell Type': 'BVIN', 'Ciliated': 'ciliated', 'Side': 'DL', 'Brain Region': 'anterior BV', 'X': 72, 'Y': 22.3, 'Z': 36.6, 'Morphology Description': 'Simple cell body with single axon that bifurcates to form forked terminal in PBV', 'Cell Body Volume': 158.567, 'Number of Pre-Synaptic Sites': 8, 'Number of Post-Synaptic Sites': 19, 'Number of Putative Gap Junctions': '-'}\n",
      "{'Cell ID': '130', 'Cell Type': 'pr-BTN RN', 'Ciliated': 'no vacuole or membrane contact, does not enter canal', 'Side': 'R', 'Brain Region': 'posterior BV', 'X': 26.209999999999926, 'Y': 22.8, 'Z': 0.9, 'Morphology Description': 'Small, round cell body with simple medium axon and simple club-like terminal in MG', 'Cell Body Volume': 286.69, 'Number of Pre-Synaptic Sites': 41, 'Number of Post-Synaptic Sites': 104, 'Number of Putative Gap Junctions': 5}\n",
      "{'Cell ID': '131', 'Cell Type': 'PNRN', 'Ciliated': 'no vacuole or membrane contact, does not enter canal', 'Side': 'DL', 'Brain Region': 'posterior BV', 'X': 27.40999999999993, 'Y': 26.7, 'Z': 31.4, 'Morphology Description': 'Cell body with fine anterior dendrite and thick caudal axon with elongate spiralling terminal in MG', 'Cell Body Volume': 230.532, 'Number of Pre-Synaptic Sites': 35, 'Number of Post-Synaptic Sites': 72, 'Number of Putative Gap Junctions': '-'}\n",
      "{'Cell ID': '134', 'Cell Type': 'AntRN', 'Ciliated': 'no vacuole or membrane contact, does not enter canal', 'Side': 'L', 'Brain Region': 'posterior BV', 'X': 26.989999999999927, 'Y': 12.6, 'Z': 27.9, 'Morphology Description': 'Round cell body with long axon and single simple terminal in MG', 'Cell Body Volume': 257.226, 'Number of Pre-Synaptic Sites': 38, 'Number of Post-Synaptic Sites': 53, 'Number of Putative Gap Junctions': 26}\n",
      "{'Cell ID': '135', 'Cell Type': 'AntRN', 'Ciliated': 'no vacuole or membrane contact, does not enter canal', 'Side': 'L', 'Brain Region': 'posterior BV', 'X': 26.989999999999927, 'Y': 15.3, 'Z': 30.1, 'Morphology Description': 'Round cell body with thick axon with simple elongate terminal in MG', 'Cell Body Volume': 278.384, 'Number of Pre-Synaptic Sites': 39, 'Number of Post-Synaptic Sites': 51, 'Number of Putative Gap Junctions': 3}\n",
      "{'Cell ID': '140', 'Cell Type': 'pr-AMG RN', 'Ciliated': 'to vacuole at anterior but no membrane contact, does not enter canal', 'Side': 'DM', 'Brain Region': 'posterior BV', 'X': 27.76999999999993, 'Y': 26.6, 'Z': 20.1, 'Morphology Description': 'Teardrop shaped cell body with short fine dendrites, axon projects ventroposteriorly with expansions starting at mid-axon and fine short lateral branches to forked bifurcated terminal, one tapered branch and one with simple expanded terminal', 'Cell Body Volume': 204.202, 'Number of Pre-Synaptic Sites': 31, 'Number of Post-Synaptic Sites': 68, 'Number of Putative Gap Junctions': 7}\n",
      "{'Cell ID': '142', 'Cell Type': 'AntRN', 'Ciliated': 'to vacuole at anterior but no membrane contact, does not enter canal', 'Side': 'VR', 'Brain Region': 'posterior BV', 'X': 28.849999999999927, 'Y': 13.6, 'Z': 4.5, 'Morphology Description': 'Round cell body with dorsal projecting neurite at midline, caudal axon splits to bifid axon with two axon collaterals, one of these splits forming a third collateral that terminates anterior to the MG, other axon collaterals form simple terminals at differing depths in the MG', 'Cell Body Volume': 476.532, 'Number of Pre-Synaptic Sites': 75, 'Number of Post-Synaptic Sites': 145, 'Number of Putative Gap Junctions': 63}\n",
      "{'Cell ID': '143', 'Cell Type': 'AntRN', 'Ciliated': 'to vacuole at anterior but no membrane contact, does not enter canal', 'Side': 'VL', 'Brain Region': 'posterior BV', 'X': 31.909999999999936, 'Y': 21.6, 'Z': 4.1, 'Morphology Description': 'Simple cell body with thick axon axon projecting to MG with simple elongate terminal', 'Cell Body Volume': 349.03, 'Number of Pre-Synaptic Sites': 44, 'Number of Post-Synaptic Sites': 69, 'Number of Putative Gap Junctions': 25}\n",
      "{'Cell ID': '147', 'Cell Type': 'AntRN', 'Ciliated': '\\xa0to vacuole at anterior but no membrane contact, does not enter canal', 'Side': 'VL', 'Brain Region': 'posterior BV', 'X': 30.349999999999927, 'Y': 10, 'Z': 16.5, 'Morphology Description': 'Thick axon extends anterior branch near soma, expansion just after midlength then elongate spiral terminal', 'Cell Body Volume': 277.799, 'Number of Pre-Synaptic Sites': 60, 'Number of Post-Synaptic Sites': 164, 'Number of Putative Gap Junctions': 35}\n",
      "{'Cell ID': '15', 'Cell Type': 'cor-ass BVIN', 'Ciliated': 'ciliated to bp', 'Side': 'VL', 'Brain Region': 'anterior BV', 'X': 2.090000000000001, 'Y': 5.9, 'Z': 30.5, 'Morphology Description': 'Simple cell body, simple axon with slight mid-axon expansion projecting dorsally to form simple hardly discernible terminal in PBV', 'Cell Body Volume': 103.552, 'Number of Pre-Synaptic Sites': 8, 'Number of Post-Synaptic Sites': 12, 'Number of Putative Gap Junctions': 2}\n",
      "{'Cell ID': '152', 'Cell Type': 'AntRN', 'Ciliated': 'no vacuole or membrane contact, does not enter canal', 'Side': 'VR', 'Brain Region': 'posterior BV', 'X': 34.849999999999895, 'Y': 24.3, 'Z': 8.7, 'Morphology Description': 'Round cell body with short anterior dendrite and thick axon extending caudally from ventral surface with short lateral branches at mid-axon and elongate terminal', 'Cell Body Volume': 359.419, 'Number of Pre-Synaptic Sites': 63, 'Number of Post-Synaptic Sites': 95, 'Number of Putative Gap Junctions': 15}\n",
      "{'Cell ID': '153', 'Cell Type': 'AntRN', 'Ciliated': 'no vacuole or membrane contact, does not enter canal', 'Side': 'L', 'Brain Region': 'posterior BV', 'X': 35.809999999999896, 'Y': 14, 'Z': 24.6, 'Morphology Description': 'Simple round body with axon with small undulations along its length terminating in single simple terminal in the MG', 'Cell Body Volume': 159.636, 'Number of Pre-Synaptic Sites': 34, 'Number of Post-Synaptic Sites': 41, 'Number of Putative Gap Junctions': 3}\n",
      "{'Cell ID': '157', 'Cell Type': 'pr-AMG RN', 'Ciliated': '\\xa0to vacuole at posterior to membrane of 163, does not enter canal', 'Side': 'R', 'Brain Region': 'posterior BV', 'X': 32.50999999999993, 'Y': 27.3, 'Z': 16.6, 'Morphology Description': 'Teardrop shaped cell body, axon projecting ventroposteriorly bifurcating in anterior MG to from forked terminal, with ventral branch thicker than dorsal branch', 'Cell Body Volume': 139.377, 'Number of Pre-Synaptic Sites': 55, 'Number of Post-Synaptic Sites': 93, 'Number of Putative Gap Junctions': 6}\n",
      "{'Cell ID': '159', 'Cell Type': 'AntRN', 'Ciliated': 'no vacuole or membrane contact, does not enter canal', 'Side': 'DL', 'Brain Region': 'posterior BV', 'X': 33.22999999999991, 'Y': 19.8, 'Z': 31.4, 'Morphology Description': 'Simple cell body, simple axon with smooth bend along length and single simple terminal in MG', 'Cell Body Volume': 140.056, 'Number of Pre-Synaptic Sites': 38, 'Number of Post-Synaptic Sites': 43, 'Number of Putative Gap Junctions': '-'}\n",
      "{'Cell ID': '16', 'Cell Type': 'BVIN', 'Ciliated': '\\xa0no vacuole or membrane contact, does not enter canal', 'Side': 'DL', 'Brain Region': 'anterior BV', 'X': 2.15, 'Y': 25.3, 'Z': 30.7, 'Morphology Description': 'thick axon with expansion at mid-length followed by 30 degree turn with multiple expansions to terminal', 'Cell Body Volume': 157.923, 'Number of Pre-Synaptic Sites': 26, 'Number of Post-Synaptic Sites': 32, 'Number of Putative Gap Junctions': 4}\n",
      "{'Cell ID': '160', 'Cell Type': 'PBV PNIN', 'Ciliated': 'to vacuole at posterior to membrane of 181, does not enter canal', 'Side': 'DL', 'Brain Region': 'posterior BV', 'X': 36.589999999999904, 'Y': 17.8, 'Z': 26, 'Morphology Description': 'Curved cell body with short blunt ending neurite from posterior', 'Cell Body Volume': 242.014, 'Number of Pre-Synaptic Sites': 15, 'Number of Post-Synaptic Sites': 34, 'Number of Putative Gap Junctions': 3}\n",
      "{'Cell ID': '161', 'Cell Type': 'AntRN', 'Ciliated': 'no vacuole or membrane contact, does not enter canal', 'Side': 'L', 'Brain Region': 'posterior BV', 'X': 38.50999999999992, 'Y': 11, 'Z': 19, 'Morphology Description': 'Large cell body with multiple short branches extending anteriorly from posterior cell body and one thick axon that arcs dorsally and coils and expands at its terminal in the MG', 'Cell Body Volume': 416.496, 'Number of Pre-Synaptic Sites': 39, 'Number of Post-Synaptic Sites': 175, 'Number of Putative Gap Junctions': 2}\n",
      "{'Cell ID': '162', 'Cell Type': 'PBV PNIN', 'Ciliated': 'to vacuole at posterior to membrane of 181, does not enter canal', 'Side': 'DL', 'Brain Region': 'posterior BV', 'X': 39.28999999999992, 'Y': 15.1, 'Z': 23.6, 'Morphology Description': 'Cell body has short anterior projecting neurite with ball at its tip and short blunt ending neurite from posterior', 'Cell Body Volume': 137.384, 'Number of Pre-Synaptic Sites': 18, 'Number of Post-Synaptic Sites': 23, 'Number of Putative Gap Junctions': 3}\n",
      "{'Cell ID': '163', 'Cell Type': 'PBV PNIN', 'Ciliated': 'to membrane of 177 with syn, does not enter canal', 'Side': 'DM', 'Brain Region': 'posterior BV', 'X': 40.969999999999935, 'Y': 22.7, 'Z': 18.6, 'Morphology Description': 'Curved cell body with short blunt ending neurite from posterior', 'Cell Body Volume': 163.998, 'Number of Pre-Synaptic Sites': 12, 'Number of Post-Synaptic Sites': 24, 'Number of Putative Gap Junctions': 1}\n",
      "{'Cell ID': '164', 'Cell Type': 'PBV PNIN', 'Ciliated': 'to vacuole at posterior to membrane of 183, does not enter canal', 'Side': 'DR', 'Brain Region': 'posterior BV', 'X': 43.84999999999996, 'Y': 20.7, 'Z': 16.2, 'Morphology Description': 'Curved cell body with short blunt ending dorsal projecting neurite from posterior', 'Cell Body Volume': 149.17, 'Number of Pre-Synaptic Sites': 11, 'Number of Post-Synaptic Sites': 27, 'Number of Putative Gap Junctions': 4}\n",
      "{'Cell ID': '17', 'Cell Type': 'cor-ass BVIN', 'Ciliated': '\\xa0ciliated to bp', 'Side': 'L', 'Brain Region': 'anterior BV', 'X': 2.090000000000001, 'Y': 0.8, 'Z': 26.5, 'Morphology Description': 'Simple cell body with fine axon that expands and branches at terminal', 'Cell Body Volume': 125.349, 'Number of Pre-Synaptic Sites': 14, 'Number of Post-Synaptic Sites': 33, 'Number of Putative Gap Junctions': 3}\n",
      "{'Cell ID': '177', 'Cell Type': 'Ambiguous', 'Ciliated': 'ciliated', 'Side': 'L', 'Brain Region': 'posterior BV/neck', 'X': 40.97, 'Y': 25.95, 'Z': 21.9, 'Morphology Description': 'large elongate cell body, no axon or terminals', 'Cell Body Volume': 314, 'Number of Pre-Synaptic Sites': 3, 'Number of Post-Synaptic Sites': 11, 'Number of Putative Gap Junctions': 3}\n",
      "{'Cell ID': '18', 'Cell Type': 'BVIN', 'Ciliated': 'ciliated', 'Side': 'L', 'Brain Region': 'anterior BV', 'X': 2.2700000000000014, 'Y': 19, 'Z': 33.8, 'Morphology Description': 'Simple cell body with fine axon and forked thick terminal branched at 90 degrees', 'Cell Body Volume': 71.4872, 'Number of Pre-Synaptic Sites': 18, 'Number of Post-Synaptic Sites': 31, 'Number of Putative Gap Junctions': 3}\n",
      "{'Cell ID': '2', 'Cell Type': 'cor-ass BVIN', 'Ciliated': 'ciliated to bp', 'Side': 'L', 'Brain Region': 'anterior BV', 'X': 1.2500000000000007, 'Y': 16.5, 'Z': 32.8, 'Morphology Description': 'Simple cell with single unbranched axon to posterior', 'Cell Body Volume': 100.91, 'Number of Pre-Synaptic Sites': 12, 'Number of Post-Synaptic Sites': 14, 'Number of Putative Gap Junctions': 2}\n",
      "{'Cell ID': '20', 'Cell Type': 'PNIN', 'Ciliated': 'putatively ciliated', 'Side': 'DM', 'Brain Region': 'anterior BV', 'X': 2.810000000000002, 'Y': 38.2, 'Z': 20.7, 'Morphology Description': 'Simple cell body with single axon that expands to large terminal with minimal branching', 'Cell Body Volume': 79.8135, 'Number of Pre-Synaptic Sites': 11, 'Number of Post-Synaptic Sites': 23, 'Number of Putative Gap Junctions': 6}\n",
      "{'Cell ID': '21', 'Cell Type': 'BVIN', 'Ciliated': 'ciliated', 'Side': 'L', 'Brain Region': 'anterior BV', 'X': 2.25, 'Y': 22.5, 'Z': 32, 'Morphology Description': 'Simple cell body with fine axon and no expansion at terminal', 'Cell Body Volume': 80.4, 'Number of Pre-Synaptic Sites': 19, 'Number of Post-Synaptic Sites': 11, 'Number of Putative Gap Junctions': 1}\n",
      "{'Cell ID': '22', 'Cell Type': 'BVIN', 'Ciliated': 'ciliated', 'Side': 'DL', 'Brain Region': 'anterior BV', 'X': 3.6500000000000026, 'Y': 27, 'Z': 36.6, 'Morphology Description': 'Single fine axon branches after turning dorsally mid-length, two long thin branches, one ends in expanded terminal', 'Cell Body Volume': 86.7172, 'Number of Pre-Synaptic Sites': 5, 'Number of Post-Synaptic Sites': 9, 'Number of Putative Gap Junctions': 1}\n",
      "{'Cell ID': '23', 'Cell Type': 'cor-ass BVIN', 'Ciliated': 'ciliated to bp', 'Side': 'L', 'Brain Region': 'anterior BV', 'X': 4.61, 'Y': 11.8, 'Z': 37.2, 'Morphology Description': 'Heart shaped cell, fine axon has curve at mid length and simple terminal ', 'Cell Body Volume': 182.988, 'Number of Pre-Synaptic Sites': 7, 'Number of Post-Synaptic Sites': 20, 'Number of Putative Gap Junctions': '-'}\n",
      "{'Cell ID': '24', 'Cell Type': 'BVIN', 'Ciliated': 'ciliated', 'Side': 'L', 'Brain Region': 'anterior BV', 'X': 4.310000000000001, 'Y': 15.4, 'Z': 34.9, 'Morphology Description': 'Short single axon expands at shallow u-shaped terminal', 'Cell Body Volume': 168.692, 'Number of Pre-Synaptic Sites': 7, 'Number of Post-Synaptic Sites': 26, 'Number of Putative Gap Junctions': 1}\n",
      "{'Cell ID': '29', 'Cell Type': 'PNIN', 'Ciliated': 'to membrane of 30 with syn, does not enter canal', 'Side': 'DL', 'Brain Region': 'anterior BV', 'X': 4.7299999999999995, 'Y': 39.7, 'Z': 27.7, 'Morphology Description': 'Simple cell body with thick axon hillock that narrows through axon projecting ventrally before terminating in BV with minimal branching at terminal.', 'Cell Body Volume': 112.166, 'Number of Pre-Synaptic Sites': 17, 'Number of Post-Synaptic Sites': 21, 'Number of Putative Gap Junctions': 5}\n",
      "{'Cell ID': '3', 'Cell Type': 'BVIN', 'Ciliated': 'ciliated', 'Side': 'L', 'Brain Region': 'anterior BV', 'X': 0.16999999999999998, 'Y': 23.2, 'Z': 31.9, 'Morphology Description': 'Simple cell body with single axon that expands forming short branched at terminal in PBV', 'Cell Body Volume': 24.3679, 'Number of Pre-Synaptic Sites': 6, 'Number of Post-Synaptic Sites': 5, 'Number of Putative Gap Junctions': 2}\n",
      "{'Cell ID': '30', 'Cell Type': 'PNIN', 'Ciliated': 'to membrane of 5 with syn, does not enter canal', 'Side': 'DL', 'Brain Region': 'anterior BV', 'X': 5.809999999999995, 'Y': 35.2, 'Z': 28.1, 'Morphology Description': 'Simple cell body with thck axon hillock that narrows through axon projecting ventrally before terminating in BV with simple club shaped at terminal.', 'Cell Body Volume': 128.303, 'Number of Pre-Synaptic Sites': 46, 'Number of Post-Synaptic Sites': 19, 'Number of Putative Gap Junctions': 8}\n",
      "{'Cell ID': '33', 'Cell Type': 'BVIN', 'Ciliated': 'ciliated', 'Side': 'DL', 'Brain Region': 'mid BV', 'X': 7.249999999999987, 'Y': 22.3, 'Z': 36, 'Morphology Description': 'Elongate cell body with axon that turns ventrally to left then expanding before turning dorsally to form blunt club shaped terminal in PBV', 'Cell Body Volume': 129.887, 'Number of Pre-Synaptic Sites': 3, 'Number of Post-Synaptic Sites': 7, 'Number of Putative Gap Junctions': '-'}\n",
      "{'Cell ID': '38', 'Cell Type': 'cor-ass BVIN', 'Ciliated': 'ciliated to bp', 'Side': 'L', 'Brain Region': 'mid BV', 'X': 8.329999999999984, 'Y': 10.2, 'Z': 37.6, 'Morphology Description': 'Ventral cell body with angled axon (45 degrees from cell body), that branches to form forked branched 120 degree terminal with one anterior projecting branch and one v-shaped branch lacking expanded terminal', 'Cell Body Volume': 267.962, 'Number of Pre-Synaptic Sites': 11, 'Number of Post-Synaptic Sites': 19, 'Number of Putative Gap Junctions': 1}\n",
      "{'Cell ID': '4', 'Cell Type': 'PNIN', 'Ciliated': 'no vacuole or membrane contact, does not enter canal', 'Side': 'DM', 'Brain Region': 'anterior BV', 'X': 0.5900000000000001, 'Y': 35.5, 'Z': 28, 'Morphology Description': 'Simple elongate cell body with thick axon that branches to form 2 colateral axons, one of which branches to form two branches both axon branches terminate at same level in PBV', 'Cell Body Volume': 96.3172, 'Number of Pre-Synaptic Sites': 54, 'Number of Post-Synaptic Sites': 30, 'Number of Putative Gap Junctions': 24}\n",
      "{'Cell ID': '41', 'Cell Type': 'BVIN', 'Ciliated': 'ciliated', 'Side': 'DL', 'Brain Region': 'mid BV', 'X': 8.389999999999985, 'Y': 26.2, 'Z': 33.6, 'Morphology Description': 'Simple cell body with ventral projecting axon terminating in long expanded terminal in mid BV', 'Cell Body Volume': 115.535, 'Number of Pre-Synaptic Sites': 8, 'Number of Post-Synaptic Sites': 2, 'Number of Putative Gap Junctions': '-'}\n",
      "{'Cell ID': '42', 'Cell Type': 'BVIN', 'Ciliated': 'ciliated', 'Side': 'DL', 'Brain Region': 'mid BV', 'X': 8.629999999999987, 'Y': 20.5, 'Z': 35.9, 'Morphology Description': 'Simple cell body that narrows to descending axon, sharp 90 degree bend mid axon curving posteriorly to form terminal in PBV', 'Cell Body Volume': 166.933, 'Number of Pre-Synaptic Sites': 3, 'Number of Post-Synaptic Sites': 22, 'Number of Putative Gap Junctions': 2}\n",
      "{'Cell ID': '43', 'Cell Type': 'BVIN', 'Ciliated': 'ciliated', 'Side': 'DL', 'Brain Region': 'mid BV', 'X': 8.689999999999987, 'Y': 24.5, 'Z': 34.3, 'Morphology Description': 'Simple cell body with ventral projecting axon terminating in long expanded terminal in mid BV', 'Cell Body Volume': 107.138, 'Number of Pre-Synaptic Sites': 2, 'Number of Post-Synaptic Sites': 1, 'Number of Putative Gap Junctions': 1}\n",
      "{'Cell ID': '46', 'Cell Type': 'BVIN', 'Ciliated': 'ciliated', 'Side': 'DL', 'Brain Region': 'mid BV', 'X': 8.26, 'Y': 28.9, 'Z': 27.4, 'Morphology Description': 'Large cell body with two tapering endings toward posterior, no true axon', 'Cell Body Volume': 135.1, 'Number of Pre-Synaptic Sites': 5, 'Number of Post-Synaptic Sites': 8, 'Number of Putative Gap Junctions': '-'}\n",
      "{'Cell ID': '48', 'Cell Type': 'cor-ass BVIN', 'Ciliated': 'ciliated to bp', 'Side': 'L', 'Brain Region': 'mid BV', 'X': 10.430000000000001, 'Y': 14.3, 'Z': 34.2, 'Morphology Description': 'Simple large cell body with single fine axon terminating without discernible terminal region', 'Cell Body Volume': 173.486, 'Number of Pre-Synaptic Sites': 8, 'Number of Post-Synaptic Sites': 10, 'Number of Putative Gap Junctions': '-'}\n",
      "{'Cell ID': '50', 'Cell Type': 'cor-ass BVIN', 'Ciliated': 'ciliated to bp', 'Side': 'L', 'Brain Region': 'mid BV', 'X': 10.970000000000006, 'Y': 14.2, 'Z': 30.8, 'Morphology Description': 'Round cell body with expansion ventrolaterally from anterior axon, in PBV axon bends back on itself at ~60 degrees forming a v-shaped terminal', 'Cell Body Volume': 116.536, 'Number of Pre-Synaptic Sites': 12, 'Number of Post-Synaptic Sites': 9, 'Number of Putative Gap Junctions': '-'}\n",
      "{'Cell ID': '55', 'Cell Type': 'cor-ass BVIN', 'Ciliated': 'ciliated to bp', 'Side': 'DL', 'Brain Region': 'mid BV', 'X': 12.050000000000013, 'Y': 22, 'Z': 30.6, 'Morphology Description': 'Elongate cell body with short axon and single terminal in PBV', 'Cell Body Volume': 123.708, 'Number of Pre-Synaptic Sites': 6, 'Number of Post-Synaptic Sites': 9, 'Number of Putative Gap Junctions': 11}\n",
      "{'Cell ID': '59', 'Cell Type': 'cor-ass BVIN', 'Ciliated': 'ciliated to bp', 'Side': 'DL', 'Brain Region': 'mid BV', 'X': 12.530000000000017, 'Y': 19.1, 'Z': 32.1, 'Morphology Description': 'Round cell body with simple fine axon that bifurcates forming one short branch to posterior, and another bent terminal branch that extends to anterior before turning at sharp angle to posterior', 'Cell Body Volume': 112.671, 'Number of Pre-Synaptic Sites': 6, 'Number of Post-Synaptic Sites': 11, 'Number of Putative Gap Junctions': 3}\n",
      "{'Cell ID': '6', 'Cell Type': 'PNIN', 'Ciliated': 'Starts at membrane with 5 but not as syn, ends in vacuole, does not enter canal', 'Side': 'DM', 'Brain Region': 'anterior BV', 'X': 1.1300000000000006, 'Y': 38.1, 'Z': 23.7, 'Morphology Description': 'Round cell eith axon that bends then branches for form short collateral, persistent axon expands in PBV forming long terminal', 'Cell Body Volume': 93.1748, 'Number of Pre-Synaptic Sites': 21, 'Number of Post-Synaptic Sites': 9, 'Number of Putative Gap Junctions': 1}\n",
      "{'Cell ID': '60', 'Cell Type': 'cor-ass BVIN', 'Ciliated': 'ciliated to bp', 'Side': 'DL', 'Brain Region': 'mid BV', 'X': 12.83000000000002, 'Y': 24.9, 'Z': 30.8, 'Morphology Description': 'Simple cell body with short neurite from one posterior side, and axon from other side, axon extends ventrally then turns dorsally to curve at terminal in PBV', 'Cell Body Volume': 121.397, 'Number of Pre-Synaptic Sites': 12, 'Number of Post-Synaptic Sites': 9, 'Number of Putative Gap Junctions': '-'}\n",
      "{'Cell ID': '61', 'Cell Type': 'PNIN ', 'Ciliated': 'ciliated', 'Side': 'DL', 'Brain Region': 'mid BV', 'X': 12.95000000000002, 'Y': 25.8, 'Z': 24.1, 'Morphology Description': 'Cell body with short dendrites to anterior and ventral, and three short neurites emerging from posterior, longest neurite terminates in thickened terminal ', 'Cell Body Volume': 167.694, 'Number of Pre-Synaptic Sites': 17, 'Number of Post-Synaptic Sites': 21, 'Number of Putative Gap Junctions': 5}\n",
      "{'Cell ID': '62', 'Cell Type': 'cor-ass BVIN', 'Ciliated': 'ciliated to bp', 'Side': 'L', 'Brain Region': 'mid BV', 'X': 12.83000000000002, 'Y': 9.9, 'Z': 32.8, 'Morphology Description': 'Large comma shaped cell, single fine axon with forked branched terminal, one branch v shaped to anterior, one thick and club like', 'Cell Body Volume': 169.98, 'Number of Pre-Synaptic Sites': 11, 'Number of Post-Synaptic Sites': 9, 'Number of Putative Gap Junctions': 1}\n",
      "{'Cell ID': '65', 'Cell Type': 'PNIN ', 'Ciliated': 'ciliated', 'Side': 'D', 'Brain Region': 'mid BV', 'X': 13.670000000000025, 'Y': 29.2, 'Z': 22.2, 'Morphology Description': 'Large cell body with vacuole, thick short axon that expands to club-like terminal', 'Cell Body Volume': 300.051, 'Number of Pre-Synaptic Sites': 16, 'Number of Post-Synaptic Sites': 25, 'Number of Putative Gap Junctions': nan}\n",
      "{'Cell ID': '68', 'Cell Type': 'cor-ass BVIN', 'Ciliated': 'ciliated to bp', 'Side': 'L', 'Brain Region': 'mid BV', 'X': 14.750000000000034, 'Y': 12, 'Z': 28.4, 'Morphology Description': 'Bilobed cell body with two neurites emerging, one short tapering from lobe terminating in the mid BV, the other branching into two neurites, one extending to terminate in the PBV and the other v-shaped branch extending into PBV turning back on itself to project anteriorly at 120 degrees toward midBV ', 'Cell Body Volume': 116.923, 'Number of Pre-Synaptic Sites': 12, 'Number of Post-Synaptic Sites': 23, 'Number of Putative Gap Junctions': 4}\n",
      "{'Cell ID': '70', 'Cell Type': 'cor-ass BVIN', 'Ciliated': 'ciliated to bp', 'Side': 'DL', 'Brain Region': 'mid BV', 'X': 15.050000000000036, 'Y': 19.7, 'Z': 28.1, 'Morphology Description': 'Single neurite from cell body turns dorsally in PBV then expands along AP axis forming large branched terminal', 'Cell Body Volume': 94.0306, 'Number of Pre-Synaptic Sites': 37, 'Number of Post-Synaptic Sites': 43, 'Number of Putative Gap Junctions': 7}\n",
      "{'Cell ID': '73', 'Cell Type': 'cor-ass BVIN', 'Ciliated': 'ciliated to bp', 'Side': 'L', 'Brain Region': 'mid BV', 'X': 15.47000000000004, 'Y': 16.5, 'Z': 32.8, 'Morphology Description': 'Elongate cell body with single axon that expands to multilobed terminal', 'Cell Body Volume': 145.861, 'Number of Pre-Synaptic Sites': 7, 'Number of Post-Synaptic Sites': 28, 'Number of Putative Gap Junctions': 1}\n",
      "{'Cell ID': '74', 'Cell Type': 'pr-AMG RN', 'Ciliated': '\\xa0to vacuole near canal and 88, no membrane contact, does not enter canal', 'Side': 'DL', 'Brain Region': 'mid BV', 'X': 15.050000000000036, 'Y': 23.6, 'Z': 26.1, 'Morphology Description': 'Round cell body with single axon with mid-length expansion and elongate terminal in anterior MG', 'Cell Body Volume': 138.757, 'Number of Pre-Synaptic Sites': 24, 'Number of Post-Synaptic Sites': 29, 'Number of Putative Gap Junctions': 13}\n",
      "{'Cell ID': '78', 'Cell Type': 'cor-ass BVIN', 'Ciliated': 'ciliated to bp', 'Side': 'L', 'Brain Region': 'mid BV', 'X': 16.31000000000004, 'Y': 8.6, 'Z': 30.6, 'Morphology Description': 'Cell body with two neurites emerging, one short tapering from cell body terminating in the mid BV, the other fine projecting dorsally then branching in PBV and extending along AP axis', 'Cell Body Volume': 214.357, 'Number of Pre-Synaptic Sites': 17, 'Number of Post-Synaptic Sites': 25, 'Number of Putative Gap Junctions': 5}\n",
      "{'Cell ID': '79', 'Cell Type': 'cor-ass BVIN', 'Ciliated': 'ciliated to bp', 'Side': 'L', 'Brain Region': 'mid BV', 'X': 16.790000000000035, 'Y': 16.8, 'Z': 27.3, 'Morphology Description': 'Simple cell body with single Y-shaped axon that branches in the PBV to form one short branch and one longer thick branch terminating at a blunt terminal ', 'Cell Body Volume': 129.34, 'Number of Pre-Synaptic Sites': 10, 'Number of Post-Synaptic Sites': 28, 'Number of Putative Gap Junctions': 4}\n",
      "{'Cell ID': '80', 'Cell Type': 'prRN', 'Ciliated': 'to single vacuole with vesicles at membrane with 74, does not enter canal', 'Side': 'DL', 'Brain Region': 'posterior BV', 'X': 16.910000000000032, 'Y': 25.9, 'Z': 29.3, 'Morphology Description': 'Expansions along anterior length of axon branched claw shaped elaborate terminal', 'Cell Body Volume': 305.973, 'Number of Pre-Synaptic Sites': 29, 'Number of Post-Synaptic Sites': 75, 'Number of Putative Gap Junctions': 12}\n",
      "{'Cell ID': '85', 'Cell Type': 'PNIN', 'Ciliated': 'ciliated', 'Side': 'DR', 'Brain Region': 'posterior BV', 'X': 17.330000000000023, 'Y': 30, 'Z': 17.4, 'Morphology Description': 'V-shaped cell body with cell body tapering into axon that branches into two branches in PBV at terminal at 90 degree angle', 'Cell Body Volume': 305.569, 'Number of Pre-Synaptic Sites': 3, 'Number of Post-Synaptic Sites': 22, 'Number of Putative Gap Junctions': 3}\n",
      "{'Cell ID': '86', 'Cell Type': 'prRN', 'Ciliated': '\\xa0to vacuole at anterior to membrane with coronet9, does not enter canal', 'Side': 'L', 'Brain Region': 'posterior BV', 'X': 18.110000000000007, 'Y': 13, 'Z': 27, 'Morphology Description': 'Expanded branching in anterior axon near hilock, slight curving along long axon then expansion to small simple terminal', 'Cell Body Volume': 300.607, 'Number of Pre-Synaptic Sites': 43, 'Number of Post-Synaptic Sites': 110, 'Number of Putative Gap Junctions': 14}\n",
      "{'Cell ID': '88', 'Cell Type': 'PNIN ', 'Ciliated': 'ciliated', 'Side': 'DL', 'Brain Region': 'posterior BV', 'X': 18.41, 'Y': 26.7, 'Z': 20.7, 'Morphology Description': 'Two tapered neurites from cell body, one posteriorly one ventrolaterally, both have short fine branches emerging from their surfaces.', 'Cell Body Volume': 213.886, 'Number of Pre-Synaptic Sites': 2, 'Number of Post-Synaptic Sites': 13, 'Number of Putative Gap Junctions': 2}\n",
      "{'Cell ID': '90', 'Cell Type': 'Bipolar prIN', 'Ciliated': '\\xa0to anterior vacuole near the canal but does not enter', 'Side': 'R', 'Brain Region': 'posterior BV', 'X': 18.88999999999999, 'Y': 22.1, 'Z': 13.3, 'Morphology Description': 'Vacuolatd cell body with multiple short dendrites, two neurites emerge from cell body, one has multiple branches and terminates anterior to other which has no branches and expands to expanded terminal', 'Cell Body Volume': 278.866, 'Number of Pre-Synaptic Sites': 21, 'Number of Post-Synaptic Sites': 27, 'Number of Putative Gap Junctions': 6}\n",
      "{'Cell ID': '92', 'Cell Type': 'Bipolar prIN', 'Ciliated': 'ciliated', 'Side': 'R', 'Brain Region': 'posterior BV', 'X': 19.969999999999967, 'Y': 26.4, 'Z': 14.3, 'Morphology Description': 'Vacuolated cell body with two distinct axon projections from opposite sides of cell (bipolar), both project posteriorly and form branching terminals', 'Cell Body Volume': 219.182, 'Number of Pre-Synaptic Sites': 19, 'Number of Post-Synaptic Sites': 12, 'Number of Putative Gap Junctions': 8}\n",
      "{'Cell ID': '93', 'Cell Type': 'nonsensory RN', 'Ciliated': '\\xa0posterior  projection to membrane of 121 and 122, does not enter canal', 'Side': 'DL', 'Brain Region': 'posterior BV', 'X': 19.549999999999976, 'Y': 22.8, 'Z': 32.3, 'Morphology Description': 'Simple cell body with long axon with slight expansions in anterior portion, simple terminal in MG', 'Cell Body Volume': 165.411, 'Number of Pre-Synaptic Sites': 23, 'Number of Post-Synaptic Sites': 24, 'Number of Putative Gap Junctions': 10}\n",
      "{'Cell ID': '94', 'Cell Type': 'pr-AMG RN', 'Ciliated': 'no vacuole or membrane contact, does not enter canal', 'Side': 'DL', 'Brain Region': 'posterior BV', 'X': 20.32999999999996, 'Y': 30.3, 'Z': 25.1, 'Morphology Description': 'Thick initial axon expands then turns 30 degrees, expands again with ascending short branch, elongate claw like terminal', 'Cell Body Volume': 234.671, 'Number of Pre-Synaptic Sites': 29, 'Number of Post-Synaptic Sites': 46, 'Number of Putative Gap Junctions': 6}\n",
      "{'Cell ID': '96', 'Cell Type': 'prRN', 'Ciliated': 'anterior vacuole but no membrane contact, does not enter canal', 'Side': 'L', 'Brain Region': 'posterior BV', 'X': 21.52999999999994, 'Y': 12.4, 'Z': 21.8, 'Morphology Description': 'Round cell body with short branching expansion at axon hillock, long thick axon with expansions in the MG and a simple terminal', 'Cell Body Volume': 434.75, 'Number of Pre-Synaptic Sites': 45, 'Number of Post-Synaptic Sites': 121, 'Number of Putative Gap Junctions': 27}\n",
      "{'Cell ID': 'ACIN1L', 'Cell Type': 'ACIN', 'Ciliated': 'ciliated', 'Side': 'L', 'Brain Region': 'anterior CNC', 'X': 119.09000000000012, 'Y': 12.4, 'Z': 19.2, 'Morphology Description': 'Ascending decussating from left to right with descending fine neurite.', 'Cell Body Volume': 157.573, 'Number of Pre-Synaptic Sites': 32, 'Number of Post-Synaptic Sites': 12, 'Number of Putative Gap Junctions': nan}\n",
      "{'Cell ID': 'ACIN2L', 'Cell Type': 'ACIN', 'Ciliated': 'cilia approaches and contact canal but does not enter', 'Side': 'L', 'Brain Region': 'anterior CNC Paired with ACIN2R', 'X': '-', 'Y': '-', 'Z': '-', 'Morphology Description': 'Ascending decussating from left to right with descending and ascending fine neurite.', 'Cell Body Volume': 186.413, 'Number of Pre-Synaptic Sites': 31, 'Number of Post-Synaptic Sites': 10, 'Number of Putative Gap Junctions': 1}\n",
      "{'Cell ID': 'ACIN2R', 'Cell Type': 'ACIN', 'Ciliated': 'from vacuole approaches canal but does not enter', 'Side': 'R', 'Brain Region': 'anterior CNC Paired with ACIN2L', 'X': '-', 'Y': '-', 'Z': '-', 'Morphology Description': 'Ascending decussating from right to left across midline but short of opposite neuropil', 'Cell Body Volume': 284.573, 'Number of Pre-Synaptic Sites': 18, 'Number of Post-Synaptic Sites': 8, 'Number of Putative Gap Junctions': '-'}\n",
      "{'Cell ID': 'AMG1', 'Cell Type': 'AMG', 'Ciliated': 'no vacuole or membrane contact, toward vacuole to canal but does not enter canal', 'Side': 'DR ', 'Brain Region': 'Anterior MG, across midline', 'X': 102.70999999999955, 'Y': 21.1, 'Z': 16.3, 'Morphology Description': 'Posteriormost U-shaped AMG with two anterior projecting branches from cell body, one ventrally on the right, one along the dorsal CNS on the left toward the midline.  ', 'Cell Body Volume': 270.733, 'Number of Pre-Synaptic Sites': 28, 'Number of Post-Synaptic Sites': 38, 'Number of Putative Gap Junctions': 3}\n",
      "{'Cell ID': 'AMG2', 'Cell Type': 'AMG', 'Ciliated': 'to membrane of AMG3 with syn, toward vacuole to canal but does not enter canal', 'Side': 'DL', 'Brain Region': 'Anterior MG, across midline', 'X': 92.38999999999967, 'Y': 18.5, 'Z': 22.7, 'Morphology Description': 'Posterior u-shaped AMG, adjacent to AMG1, with two anterior projecting branches from cell body, one ventrally on the right, one along the dorsal CNS on the left toward the midline.  ', 'Cell Body Volume': 369.149, 'Number of Pre-Synaptic Sites': 43, 'Number of Post-Synaptic Sites': 62, 'Number of Putative Gap Junctions': 23}\n",
      "{'Cell ID': 'AMG3', 'Cell Type': 'AMG', 'Ciliated': 'to vacuole but no membrane contact, toward vacuole to canal but does not enter canal', 'Side': 'DR ', 'Brain Region': 'Anterior MG, across midlin, paired with AMG4', 'X': 90.34999999999971, 'Y': 26.2, 'Z': 13.7, 'Morphology Description': 'Sided cell body, neurites extending from left and right ventrally toward the anterior.', 'Cell Body Volume': 251.315, 'Number of Pre-Synaptic Sites': 40, 'Number of Post-Synaptic Sites': 50, 'Number of Putative Gap Junctions': 11}\n",
      "{'Cell ID': 'AMG4', 'Cell Type': 'AMG', 'Ciliated': 'ciliated to canal but does not enter canal', 'Side': 'DL', 'Brain Region': 'Anterior MG, across midline, paired with AMG3', 'X': 88.30999999999973, 'Y': 18, 'Z': 22.6, 'Morphology Description': 'Midline u-shaped cell body, neurites extending from left and right ventrally toward the anterior.', 'Cell Body Volume': 284.501, 'Number of Pre-Synaptic Sites': 43, 'Number of Post-Synaptic Sites': 44, 'Number of Putative Gap Junctions': 7}\n",
      "{'Cell ID': 'AMG5', 'Cell Type': 'AMG', 'Ciliated': 'no vacuole or membrane contact, toward vacuole to canal but does not enter canal', 'Side': 'DM', 'Brain Region': 'Anterior MG, across midline', 'X': 83.98999999999978, 'Y': 25.4, 'Z': 20.7, 'Morphology Description': 'Multiploar neuron ascending and descending axons in dorsal and ventral CNS.', 'Cell Body Volume': 315.076, 'Number of Pre-Synaptic Sites': 74, 'Number of Post-Synaptic Sites': 66, 'Number of Putative Gap Junctions': 6}\n",
      "{'Cell ID': 'AMG6', 'Cell Type': 'AMG', 'Ciliated': 'toward membrane opposite AMG5, toward vacuole to canal but does not enter canal', 'Side': 'DR ', 'Brain Region': 'Anterior MG. Paired with AMG7.', 'X': 83.98999999999978, 'Y': 27.4, 'Z': 13.9, 'Morphology Description': 'Sided cell body (right), single asceding neurite to ventral then anterior.', 'Cell Body Volume': 204.768, 'Number of Pre-Synaptic Sites': 34, 'Number of Post-Synaptic Sites': 47, 'Number of Putative Gap Junctions': 18}\n",
      "{'Cell ID': 'AMG7', 'Cell Type': 'AMG', 'Ciliated': 'toward membrane opposite AMG5, toward vacuole to canal but does not enter canal', 'Side': 'DL', 'Brain Region': 'Anterior MG. Paired with AMG6.', 'X': 81.70999999999981, 'Y': 21.2, 'Z': 25.1, 'Morphology Description': 'Sided cell body (left), single asceding neurite to ventral then anterior.', 'Cell Body Volume': 222.561, 'Number of Pre-Synaptic Sites': 21, 'Number of Post-Synaptic Sites': 25, 'Number of Putative Gap Junctions': 24}\n",
      "{'Cell ID': 'MGIN1L', 'Cell Type': 'MGIN', 'Ciliated': 'to vacuole at anterior to membrane with ddL, does not enter canal', 'Side': 'VL', 'Brain Region': 'Ventral anterior MG. Paired with MGIN1R', 'X': 70.42999999999996, 'Y': 18, 'Z': 21.6, 'Morphology Description': 'Close to midline.  Axon terminates in anterior portion of tail.', 'Cell Body Volume': 244.931, 'Number of Pre-Synaptic Sites': 70, 'Number of Post-Synaptic Sites': 153, 'Number of Putative Gap Junctions': 41}\n",
      "{'Cell ID': 'MGIN1R', 'Cell Type': 'MGIN', 'Ciliated': 'to vacuole at anterior to membrane with ddL, does not enter canal', 'Side': 'VR', 'Brain Region': 'Ventral anterior MG. Paired with MGIN1L', 'X': 66.83000000000003, 'Y': 18, 'Z': 14.2, 'Morphology Description': 'Close to midline.  Axon terminates in anterior portion of tail.', 'Cell Body Volume': 259.746, 'Number of Pre-Synaptic Sites': 63, 'Number of Post-Synaptic Sites': 176, 'Number of Putative Gap Junctions': 26}\n",
      "{'Cell ID': 'MGIN2L', 'Cell Type': 'MGIN', 'Ciliated': 'no vacuole or membrane contact, does not enter canal', 'Side': 'VL', 'Brain Region': 'Ventral anterior MG. Paired with MGIN2R', 'X': 83.26999999999978, 'Y': 6.3, 'Z': 18, 'Morphology Description': 'Dendrites project toward midline and contact partner.  Long axon terminates deep in tail.', 'Cell Body Volume': 374.656, 'Number of Pre-Synaptic Sites': 75, 'Number of Post-Synaptic Sites': 119, 'Number of Putative Gap Junctions': 53}\n",
      "{'Cell ID': 'MGIN2R', 'Cell Type': 'MGIN', 'Ciliated': 'no vacuole or membrane contact, does not enter canal', 'Side': 'VR', 'Brain Region': 'Ventral anterior MG. Paired with MGIN2L.', 'X': 83.02999999999979, 'Y': 19.2, 'Z': 7.1, 'Morphology Description': 'Dendrites project toward midline and contact partner.  Long axon terminates deep in tail.', 'Cell Body Volume': 361.151, 'Number of Pre-Synaptic Sites': 69, 'Number of Post-Synaptic Sites': 164, 'Number of Putative Gap Junctions': 85}\n",
      "{'Cell ID': 'MGIN3L', 'Cell Type': 'MGIN', 'Ciliated': 'to vacuole toward membrane opposite ependymal cell, does not enter canal', 'Side': 'L', 'Brain Region': 'Mid MG (dorsal to other paired neurons). Paired with MGIN3R.', 'X': 81.5299999999998, 'Y': 17.1, 'Z': 21.6, 'Morphology Description': 'Small cell bodies extending axons ventrolaterally then toward midline.  Terminates in posterior MG.', 'Cell Body Volume': 159.879, 'Number of Pre-Synaptic Sites': 44, 'Number of Post-Synaptic Sites': 19, 'Number of Putative Gap Junctions': 2}\n",
      "{'Cell ID': 'MGIN3R', 'Cell Type': 'MGIN', 'Ciliated': ' toward membrane opposite ependymal cell, does not enter canal', 'Side': 'R', 'Brain Region': 'Mid MG (dorsal to other paired neurons). Paired with MGIN3L.', 'X': 83.86999999999978, 'Y': 21.9, 'Z': 14.1, 'Morphology Description': 'Small cell bodies extending axons ventrolaterally then toward midline.  Terminates in posterior MG.', 'Cell Body Volume': 241.551, 'Number of Pre-Synaptic Sites': 61, 'Number of Post-Synaptic Sites': 28, 'Number of Putative Gap Junctions': 10}\n",
      "{'Cell ID': 'MN1L', 'Cell Type': 'MN', 'Ciliated': 'no vacuole or membrane contact, does not enter canal', 'Side': 'VL', 'Brain Region': 'Ventral anterior MG.  Paired with MN1R', 'X': 78.58999999999986, 'Y': 15.1, 'Z': 7.6, 'Morphology Description': 'Round cell body, and large frondose endplates extending outside CNS toward medial muscle.', 'Cell Body Volume': 249.984, 'Number of Pre-Synaptic Sites': 252, 'Number of Post-Synaptic Sites': 117, 'Number of Putative Gap Junctions': 50}\n",
      "{'Cell ID': 'MN1R', 'Cell Type': 'MN', 'Ciliated': 'no vacuole or membrane contact, does not enter canal', 'Side': 'VR', 'Brain Region': 'Ventral anterior MG.  Paired with MN1L', 'X': 73.54999999999993, 'Y': 11.8, 'Z': 22.9, 'Morphology Description': 'Round cell body, and large frondose endplates extending outside CNS toward medial muscle.', 'Cell Body Volume': 512.924, 'Number of Pre-Synaptic Sites': 359, 'Number of Post-Synaptic Sites': 126, 'Number of Putative Gap Junctions': 92}\n",
      "{'Cell ID': 'MN2L', 'Cell Type': 'MN', 'Ciliated': 'no vacuole or membrane contact, does not enter canal', 'Side': 'VL', 'Brain Region': 'Ventral MG.  Paired with MN2R.', 'X': 91.54999999999968, 'Y': 4.6, 'Z': 20.2, 'Morphology Description': 'Large, elongate cell body with long thick axons.  Terminates deep in tail.', 'Cell Body Volume': 859.532, 'Number of Pre-Synaptic Sites': 251, 'Number of Post-Synaptic Sites': 52, 'Number of Putative Gap Junctions': 166}\n",
      "{'Cell ID': 'MN2R', 'Cell Type': 'MN', 'Ciliated': 'no vacuole or membrane contact, does not enter canal', 'Side': 'VR', 'Brain Region': 'Ventral MG.  Paired with MN2L.', 'X': 93.58999999999966, 'Y': 18, 'Z': 6.9, 'Morphology Description': 'Large, elongate cell body with long thick axons.  Terminates deep in tail.', 'Cell Body Volume': 731.677, 'Number of Pre-Synaptic Sites': 275, 'Number of Post-Synaptic Sites': 90, 'Number of Putative Gap Junctions': 138}\n",
      "{'Cell ID': 'MN3L', 'Cell Type': 'MN', 'Ciliated': 'no vacuole or membrane contact, does not enter canal', 'Side': 'L', 'Brain Region': 'Mid MG (dorsal to other paired neurons). Paired with MN3R', 'X': 89.38999999999973, 'Y': 12.6, 'Z': 23, 'Morphology Description': 'Small round cell bodies.  Axons lateral to edges of CNS.  Terminates in anterior CNC.', 'Cell Body Volume': 239.491, 'Number of Pre-Synaptic Sites': 48, 'Number of Post-Synaptic Sites': 29, 'Number of Putative Gap Junctions': 12}\n",
      "{'Cell ID': 'MN3R', 'Cell Type': 'MN', 'Ciliated': 'no vacuole or membrane contact, does not enter canal', 'Side': 'R', 'Brain Region': 'Mid MG (dorsal to other paired neurons). Paired with MN3L.', 'X': 94.42999999999967, 'Y': 21.6, 'Z': 8.1, 'Morphology Description': 'Small round cell bodies.  Axons lateral to edges of CNS.  Terminates in anterior CNC.', 'Cell Body Volume': 263.075, 'Number of Pre-Synaptic Sites': 38, 'Number of Post-Synaptic Sites': 17, 'Number of Putative Gap Junctions': 3}\n",
      "{'Cell ID': 'MN4L', 'Cell Type': 'MN', 'Ciliated': 'no vacuole or membrane contact, does not enter canal', 'Side': 'VL', 'Brain Region': 'Ventral posterior MG.  Paired with MN4R.', 'X': 107.92999999999974, 'Y': 8.9, 'Z': 20.9, 'Morphology Description': 'Small, elongate cell bodies with axons to lateral sides of CNS. Paired neurons are separated along A-P axis. Terminates in anterior CNC.', 'Cell Body Volume': 178.094, 'Number of Pre-Synaptic Sites': 59, 'Number of Post-Synaptic Sites': 18, 'Number of Putative Gap Junctions': 16}\n",
      "{'Cell ID': 'MN4R', 'Cell Type': 'MN', 'Ciliated': 'to vacuole at anterior toward membrane with ependymal cell, does not enter canal', 'Side': 'VR', 'Brain Region': 'Ventral posterior MG.  Paired with MN4L (cell body caudal to MN4R).', 'X': 123.8300000000003, 'Y': 18.4, 'Z': 11.2, 'Morphology Description': 'Small, elongate cell bodies with axons to lateral sides of CNS. Paired neurons are separated along A-P axis. Terminates in anterior CNC.', 'Cell Body Volume': 178.094, 'Number of Pre-Synaptic Sites': 42, 'Number of Post-Synaptic Sites': 24, 'Number of Putative Gap Junctions': 12}\n",
      "{'Cell ID': 'MN5L', 'Cell Type': 'MN', 'Ciliated': 'toward canal but does not enter', 'Side': 'VL', 'Brain Region': 'Ventral posterior MG/anterior CNC.  Paired with MN5R.', 'X': 132.47000000000062, 'Y': 12.9, 'Z': 20.4, 'Morphology Description': 'Small, elongate cell bodies with axons to lateral sides of CNS. Paired neurons are separated along A-P axis. Terminates in anterior CNC.', 'Cell Body Volume': 207.509, 'Number of Pre-Synaptic Sites': 20, 'Number of Post-Synaptic Sites': 15, 'Number of Putative Gap Junctions': 1}\n",
      "{'Cell ID': 'MN5R', 'Cell Type': 'MN', 'Ciliated': 'barely enters canal (9+0)', 'Side': 'VR', 'Brain Region': 'Ventral posterior MG/anterior CNC.  Paired with MN5L.', 'X': 135.17000000000073, 'Y': 17.4, 'Z': 10.5, 'Morphology Description': 'Small, elongate cell bodies with axons to lateral sides of CNS. Paired neurons are separated along A-P axis. Terminates in anterior CNC.', 'Cell Body Volume': 181.108, 'Number of Pre-Synaptic Sites': 40, 'Number of Post-Synaptic Sites': 22, 'Number of Putative Gap Junctions': '-'}\n",
      "{'Cell ID': 'PMGN1', 'Cell Type': 'PMGN', 'Ciliated': 'anterior approaches vacuole near membrane with ependymal cell, does not enter canal', 'Side': 'R', 'Brain Region': 'Mid-ventral right anterior CNC', 'X': '-', 'Y': '-', 'Z': '-', 'Morphology Description': 'Simple elongate cell body with short aanterior dendrite and descending ipsilateral axon', 'Cell Body Volume': 260.755, 'Number of Pre-Synaptic Sites': 43, 'Number of Post-Synaptic Sites': 36, 'Number of Putative Gap Junctions': 36}\n",
      "{'Cell ID': 'PMGN2', 'Cell Type': 'PMGN', 'Ciliated': 'approaches and travels along membrane apposing canal but does not enter', 'Side': 'R', 'Brain Region': 'Mid-dorsal right anterior CNC', 'X': '-', 'Y': '-', 'Z': '-', 'Morphology Description': 'Short descending ipsilateral neuron.', 'Cell Body Volume': 172.281, 'Number of Pre-Synaptic Sites': 4, 'Number of Post-Synaptic Sites': 3, 'Number of Putative Gap Junctions': '-'}\n",
      "{'Cell ID': 'ddNL', 'Cell Type': 'ddN', 'Ciliated': 'no vacuole or membrane contact, does not enter canal', 'Side': 'L', 'Brain Region': 'Ventral anterior MG.  Paired with ddR, ddL crosses over ddR.', 'X': 63.23000000000007, 'Y': 14.1, 'Z': 22.6, 'Morphology Description': 'Decussating descending neuron.  Long axon terminates deep in tail.', 'Cell Body Volume': 329.21, 'Number of Pre-Synaptic Sites': 67, 'Number of Post-Synaptic Sites': 121, 'Number of Putative Gap Junctions': 9}\n",
      "{'Cell ID': 'ddNR', 'Cell Type': 'ddN', 'Ciliated': 'no vacuole or membrane contact, does not enter canal', 'Side': 'R', 'Brain Region': 'Ventral anterior MG.  Paired with ddL.  Crosses underl ddL.', 'X': 69.16999999999999, 'Y': 22.6, 'Z': 10.9, 'Morphology Description': 'Decussating descending neuron.  Long axon terminates deep in tail.', 'Cell Body Volume': 440.669, 'Number of Pre-Synaptic Sites': 65, 'Number of Post-Synaptic Sites': 73, 'Number of Putative Gap Junctions': 20}\n",
      "{'Cell ID': 'pr1', 'Cell Type': 'PR (I)', 'Ciliated': 'osp', 'Side': 'R', 'Brain Region': 'Group I-Row iii', 'X': 21.70999999999994, 'Y': 46.7, 'Z': 0.8, 'Morphology Description': 'single terminal expanded to anterior', 'Cell Body Volume': 276.379, 'Number of Pre-Synaptic Sites': 24, 'Number of Post-Synaptic Sites': 13, 'Number of Putative Gap Junctions': 3}\n",
      "{'Cell ID': 'pr10', 'Cell Type': 'PR (I)', 'Ciliated': 'osa', 'Side': 'R', 'Brain Region': 'Group I-Row v', 'X': 29.269999999999925, 'Y': 36.7, 'Z': -0.5, 'Morphology Description': 'single expanded perpendicular terminal', 'Cell Body Volume': 344.757, 'Number of Pre-Synaptic Sites': 8, 'Number of Post-Synaptic Sites': 20, 'Number of Putative Gap Junctions': 1}\n",
      "{'Cell ID': 'pr11', 'Cell Type': 'PR (I)', 'Ciliated': 'osa', 'Side': 'R', 'Brain Region': 'Group I-Row v', 'X': 31.18999999999993, 'Y': 40.9, 'Z': 1, 'Morphology Description': 'bifid terminal, both branches expanded', 'Cell Body Volume': 270.896, 'Number of Pre-Synaptic Sites': 18, 'Number of Post-Synaptic Sites': 23, 'Number of Putative Gap Junctions': '-'}\n",
      "{'Cell ID': 'pr12', 'Cell Type': 'PR (I)', 'Ciliated': 'osa', 'Side': 'R', 'Brain Region': 'Group I-Row v', 'X': 32.86999999999992, 'Y': 41.1, 'Z': 3.7, 'Morphology Description': 'single expanded terminal to posterior with branches', 'Cell Body Volume': 306.635, 'Number of Pre-Synaptic Sites': 31, 'Number of Post-Synaptic Sites': 12, 'Number of Putative Gap Junctions': '-'}\n",
      "{'Cell ID': 'pr13', 'Cell Type': 'PR (I)', 'Ciliated': 'osp', 'Side': 'R', 'Brain Region': 'Group I-Row i', 'X': 9.589999999999995, 'Y': 44.4, 'Z': -3, 'Morphology Description': '2 branch terminal, 1 dorsal 1 anterior with expasion', 'Cell Body Volume': 204.681, 'Number of Pre-Synaptic Sites': 21, 'Number of Post-Synaptic Sites': 17, 'Number of Putative Gap Junctions': 14}\n",
      "{'Cell ID': 'pr14', 'Cell Type': 'PR (I)', 'Ciliated': 'osp', 'Side': 'R', 'Brain Region': 'Group I-Row i', 'X': 14.27000000000003, 'Y': 44.5, 'Z': -2.8, 'Morphology Description': 'single short terminal', 'Cell Body Volume': 204.209, 'Number of Pre-Synaptic Sites': 2, 'Number of Post-Synaptic Sites': 5, 'Number of Putative Gap Junctions': '-'}\n",
      "{'Cell ID': 'pr15', 'Cell Type': 'PR (I)', 'Ciliated': 'osp', 'Side': 'R', 'Brain Region': 'Group I-Row i', 'X': 6.409999999999991, 'Y': 44.6, 'Z': 3.6, 'Morphology Description': 'bifid terminal with branching and expansions', 'Cell Body Volume': 352.95, 'Number of Pre-Synaptic Sites': 47, 'Number of Post-Synaptic Sites': 24, 'Number of Putative Gap Junctions': 3}\n",
      "{'Cell ID': 'pr16', 'Cell Type': 'PR (I)', 'Ciliated': 'osa', 'Side': 'R', 'Brain Region': 'Group I-Row v', 'X': 32.26999999999993, 'Y': 42.1, 'Z': 8.4, 'Morphology Description': 'single terminal to anterior with expansion', 'Cell Body Volume': 233.379, 'Number of Pre-Synaptic Sites': 14, 'Number of Post-Synaptic Sites': 22, 'Number of Putative Gap Junctions': '-'}\n",
      "{'Cell ID': 'pr17', 'Cell Type': 'PR (I)', 'Ciliated': 'osd', 'Side': 'R', 'Brain Region': 'Group I-Row i', 'X': 17.51000000000002, 'Y': 43.4, 'Z': -5, 'Morphology Description': 'expanded terminal perpendicular with branching', 'Cell Body Volume': 239.25, 'Number of Pre-Synaptic Sites': 19, 'Number of Post-Synaptic Sites': 20, 'Number of Putative Gap Junctions': '-'}\n",
      "{'Cell ID': 'pr18', 'Cell Type': 'PR (I)', 'Ciliated': 'osa', 'Side': 'R', 'Brain Region': 'Group I-Row ii', 'X': 19.30999999999998, 'Y': 44.6, 'Z': -2.6, 'Morphology Description': 'single terminal, tapered to posterior', 'Cell Body Volume': 219.236, 'Number of Pre-Synaptic Sites': 8, 'Number of Post-Synaptic Sites': 11, 'Number of Putative Gap Junctions': '-'}\n",
      "{'Cell ID': 'pr19', 'Cell Type': 'PR (I)', 'Ciliated': 'osa', 'Side': 'R', 'Brain Region': 'Group I-Row ii', 'X': 23.509999999999934, 'Y': 41.7, 'Z': -5.5, 'Morphology Description': 'single terminal expanded to anterior', 'Cell Body Volume': 274.405, 'Number of Pre-Synaptic Sites': 35, 'Number of Post-Synaptic Sites': 23, 'Number of Putative Gap Junctions': 3}\n",
      "{'Cell ID': 'pr2', 'Cell Type': 'PR (I)', 'Ciliated': 'osa', 'Side': 'R', 'Brain Region': 'Group I-Row iii', 'X': 26.689999999999927, 'Y': 45.9, 'Z': -6.4, 'Morphology Description': 'lateral single terminal', 'Cell Body Volume': 254.181, 'Number of Pre-Synaptic Sites': 4, 'Number of Post-Synaptic Sites': 10, 'Number of Putative Gap Junctions': 4}\n",
      "{'Cell ID': 'pr20', 'Cell Type': 'PR (I)', 'Ciliated': 'osp', 'Side': 'R', 'Brain Region': 'Group I-Row ii', 'X': 15.890000000000043, 'Y': 46.4, 'Z': 7.4, 'Morphology Description': 'bifid terminal, extensively branched', 'Cell Body Volume': 344.301, 'Number of Pre-Synaptic Sites': 35, 'Number of Post-Synaptic Sites': 33, 'Number of Putative Gap Junctions': 1}\n",
      "{'Cell ID': 'pr21', 'Cell Type': 'PR (I)', 'Ciliated': 'osa', 'Side': 'R', 'Brain Region': 'Group I-Row ii', 'X': 20.80999999999995, 'Y': 38.3, 'Z': -5.2, 'Morphology Description': 'single thick terminal to anterior', 'Cell Body Volume': 281.507, 'Number of Pre-Synaptic Sites': 14, 'Number of Post-Synaptic Sites': 21, 'Number of Putative Gap Junctions': 1}\n",
      "{'Cell ID': 'pr22', 'Cell Type': 'PR (I)', 'Ciliated': 'osp', 'Side': 'R', 'Brain Region': 'Group I-Row ii', 'X': 13.910000000000027, 'Y': 46, 'Z': 3.7, 'Morphology Description': 'single terminal, expanded to anterior', 'Cell Body Volume': 227.323, 'Number of Pre-Synaptic Sites': 18, 'Number of Post-Synaptic Sites': 20, 'Number of Putative Gap Junctions': nan}\n",
      "{'Cell ID': 'pr23', 'Cell Type': 'PR (I)', 'Ciliated': 'osp', 'Side': 'R', 'Brain Region': 'Group I-Row i', 'X': 13.610000000000024, 'Y': 40.4, 'Z': -5.3, 'Morphology Description': 'single terminal, expanded posteriorly', 'Cell Body Volume': 228.35, 'Number of Pre-Synaptic Sites': 21, 'Number of Post-Synaptic Sites': 14, 'Number of Putative Gap Junctions': 2}\n",
      "{'Cell ID': 'pr3', 'Cell Type': 'PR (I)', 'Ciliated': 'osa', 'Side': 'R', 'Brain Region': 'Group I-Row iv', 'X': 26.689999999999927, 'Y': 40.5, 'Z': -3.6, 'Morphology Description': 'single terminal with small branches off expansion', 'Cell Body Volume': 331.854, 'Number of Pre-Synaptic Sites': 17, 'Number of Post-Synaptic Sites': 32, 'Number of Putative Gap Junctions': 1}\n",
      "{'Cell ID': 'pr4', 'Cell Type': 'PR (I)', 'Ciliated': 'osa', 'Side': 'R', 'Brain Region': 'Group I-Row iii', 'X': 22.24999999999994, 'Y': 47.7, 'Z': 4.3, 'Morphology Description': 'bifid terminal, crossed branches along A-P axis', 'Cell Body Volume': 264.805, 'Number of Pre-Synaptic Sites': 20, 'Number of Post-Synaptic Sites': 17, 'Number of Putative Gap Junctions': 1}\n",
      "{'Cell ID': 'pr5', 'Cell Type': 'PR (I)', 'Ciliated': 'osa', 'Side': 'R', 'Brain Region': 'Group I-Row iii', 'X': 20.989999999999945, 'Y': 45.1, 'Z': 10.2, 'Morphology Description': 'single thick terminal', 'Cell Body Volume': 277.951, 'Number of Pre-Synaptic Sites': 12, 'Number of Post-Synaptic Sites': 1, 'Number of Putative Gap Junctions': '-'}\n",
      "{'Cell ID': 'pr6', 'Cell Type': 'PR (I)', 'Ciliated': 'osa', 'Side': 'R', 'Brain Region': 'Group I-Row iv', 'X': 30.349999999999927, 'Y': 44.5, 'Z': -1.3, 'Morphology Description': 'single axon with expanded 2-lobed perpendicular terminal to anterior', 'Cell Body Volume': 294.39, 'Number of Pre-Synaptic Sites': 16, 'Number of Post-Synaptic Sites': 25, 'Number of Putative Gap Junctions': '-'}\n",
      "{'Cell ID': 'pr7', 'Cell Type': 'PR (I)', 'Ciliated': 'osa', 'Side': 'R', 'Brain Region': 'Group I-Row iv', 'X': 29.269999999999925, 'Y': 48.2, 'Z': 3.5, 'Morphology Description': 'bifid terminal to posterior, expansions on both branches', 'Cell Body Volume': 301.319, 'Number of Pre-Synaptic Sites': 15, 'Number of Post-Synaptic Sites': 14, 'Number of Putative Gap Junctions': 2}\n",
      "{'Cell ID': 'pr8', 'Cell Type': 'PR (I)', 'Ciliated': 'osa', 'Side': 'R', 'Brain Region': 'Group I-Row iv', 'X': 27.76999999999993, 'Y': 47.1, 'Z': 8.4, 'Morphology Description': 'single terminal, expansion to anteiror with branching', 'Cell Body Volume': 289.963, 'Number of Pre-Synaptic Sites': 22, 'Number of Post-Synaptic Sites': 9, 'Number of Putative Gap Junctions': 6}\n",
      "{'Cell ID': 'pr9', 'Cell Type': 'PR (I)', 'Ciliated': 'osa', 'Side': 'R', 'Brain Region': 'Group I-Row v', 'X': 27.40999999999993, 'Y': 32.8, 'Z': -1.8, 'Morphology Description': 'bifid terminal, 1 branch to anterior, 1 dorsal ', 'Cell Body Volume': 289.963, 'Number of Pre-Synaptic Sites': 13, 'Number of Post-Synaptic Sites': 26, 'Number of Putative Gap Junctions': 2}\n",
      "{'Cell ID': 'trIN', 'Cell Type': 'trIN', 'Ciliated': 'does not enter canal, to vacuole at invagination of pr20', 'Side': 'DR', 'Brain Region': 'right dorsal', 'X': 8.449999999999985, 'Y': 48.4, 'Z': 9.7, 'Morphology Description': 'Large cell body dorsal to photoreceptors on right side with axon along the edge of the right CNS then ventral along photoreceptor tract to enter neuropil in posterior BV with large expanded terminal.', 'Cell Body Volume': 435.13, 'Number of Pre-Synaptic Sites': 52, 'Number of Post-Synaptic Sites': 77, 'Number of Putative Gap Junctions': 25}\n",
      "{'Cell ID': 'ukn', 'Cell Type': 'BVIN', 'Ciliated': 'unknown', 'Side': 'L', 'Brain Region': 'anterior to sections', 'X': '-', 'Y': '-', 'Z': '-', 'Morphology Description': 'Single axon along left side then turns toward midline and expands to simple terminal in PBV', 'Cell Body Volume': nan, 'Number of Pre-Synaptic Sites': 23, 'Number of Post-Synaptic Sites': 12, 'Number of Putative Gap Junctions': 1}\n",
      "{'Cell ID': 'ukn2', 'Cell Type': 'BVIN', 'Ciliated': 'unknown', 'Side': 'L', 'Brain Region': 'anterior to sections', 'X': '-', 'Y': '-', 'Z': '-', 'Morphology Description': 'Single thick axon along left side then expands and branches sending thick branch to toward midline expanding again to terminal in PBV', 'Cell Body Volume': nan, 'Number of Pre-Synaptic Sites': 52, 'Number of Post-Synaptic Sites': 17, 'Number of Putative Gap Junctions': 4}\n",
      "{'Cell ID': 'vacIN1', 'Cell Type': 'vacIN', 'Ciliated': 'modified cilium', 'Side': 'R', 'Brain Region': 'vacuolated, right wall of canal anterior to ocellus', 'X': 5.1499999999999995, 'Y': 28, 'Z': -6.1, 'Morphology Description': 'Vacuolated cell body and modified cilium anterior to ocellus on right side, with short axon along photoreceptor tract', 'Cell Body Volume': 290.535, 'Number of Pre-Synaptic Sites': 4, 'Number of Post-Synaptic Sites': 2, 'Number of Putative Gap Junctions': 5}\n"
     ]
    },
    {
     "name": "stderr",
     "output_type": "stream",
     "text": [
      "/home/spencerloggia/anaconda3/envs/graspy/lib/python3.7/site-packages/pandas/core/frame.py:1490: FutureWarning: Using short name for 'orient' is deprecated. Only the options: ('dict', list, 'series', 'split', 'records', 'index') will be used in a future version. Use one of the above to silence this warning.\n",
      "  FutureWarning,\n"
     ]
    }
   ],
   "source": [
    "# assign node attributes\n",
    "for n in graph.nodes:\n",
    "    try:\n",
    "        data = cell_bio_data.loc[cell_bio_data['Cell ID'] == n]\n",
    "    except KeyError:\n",
    "        continue\n",
    "    try:\n",
    "        data = data.to_dict('r')[0]\n",
    "    except IndexError:\n",
    "        continue    \n",
    "    print(data)\n",
    "    data.pop('Cell ID')\n",
    "    graph.add_node(n, **data)\n"
   ]
  },
  {
   "cell_type": "code",
   "execution_count": 14,
   "metadata": {},
   "outputs": [
    {
     "data": {
      "text/plain": "0 Abbreviation Colour                                    Cell Type  \\\n1         PR-I    NaN                        Type I Photoreceptors   \n2        PR-II    NaN                       Type II Photoreceptors   \n3       PR-III    NaN                      Type III Photoreceptors   \n4         Lens                                          Lens cells   \n5        vacIN    NaN  Photoreceptor associated vacuolated neurons   \n\n0                                    Characteristics  \\\n1                Outer segments into ocellus pigment   \n2  Outer segments directly into neural canal near...   \n3  Ventral vacuolated cells between Cor and lens ...   \n4  Large, vacuolated cells ventral to ocellus pig...   \n5  Anterior vacuolated neurons with short axons a...   \n\n0                                           Subtypes Number of cells  \\\n1  (osa, osd, osp: outer segments project to ante...              23   \n2  (osa, osd, osp: outer segments project to ante...               7   \n3                                                  -               6   \n4                                                  -               3   \n5  Lens1 extends farther along neuropil and makes...               2   \n\n0                         Cell IDs   Annotation  \n1                         pr1-pr23      Sensory  \n2                          pra-prg      Sensory  \n3  lens6-7, 84, 101, 110, 113, 114      Sensory  \n4              lens4, lens5, lens8    Accessory  \n5                     lens1, lens2  Interneuron  ",
      "text/html": "<div>\n<style scoped>\n    .dataframe tbody tr th:only-of-type {\n        vertical-align: middle;\n    }\n\n    .dataframe tbody tr th {\n        vertical-align: top;\n    }\n\n    .dataframe thead th {\n        text-align: right;\n    }\n</style>\n<table border=\"1\" class=\"dataframe\">\n  <thead>\n    <tr style=\"text-align: right;\">\n      <th></th>\n      <th>Abbreviation</th>\n      <th>Colour</th>\n      <th>Cell Type</th>\n      <th>Characteristics</th>\n      <th>Subtypes</th>\n      <th>Number of cells</th>\n      <th>Cell IDs</th>\n      <th>Annotation</th>\n    </tr>\n  </thead>\n  <tbody>\n    <tr>\n      <th>1</th>\n      <td>PR-I</td>\n      <td>NaN</td>\n      <td>Type I Photoreceptors</td>\n      <td>Outer segments into ocellus pigment</td>\n      <td>(osa, osd, osp: outer segments project to ante...</td>\n      <td>23</td>\n      <td>pr1-pr23</td>\n      <td>Sensory</td>\n    </tr>\n    <tr>\n      <th>2</th>\n      <td>PR-II</td>\n      <td>NaN</td>\n      <td>Type II Photoreceptors</td>\n      <td>Outer segments directly into neural canal near...</td>\n      <td>(osa, osd, osp: outer segments project to ante...</td>\n      <td>7</td>\n      <td>pra-prg</td>\n      <td>Sensory</td>\n    </tr>\n    <tr>\n      <th>3</th>\n      <td>PR-III</td>\n      <td>NaN</td>\n      <td>Type III Photoreceptors</td>\n      <td>Ventral vacuolated cells between Cor and lens ...</td>\n      <td>-</td>\n      <td>6</td>\n      <td>lens6-7, 84, 101, 110, 113, 114</td>\n      <td>Sensory</td>\n    </tr>\n    <tr>\n      <th>4</th>\n      <td>Lens</td>\n      <td></td>\n      <td>Lens cells</td>\n      <td>Large, vacuolated cells ventral to ocellus pig...</td>\n      <td>-</td>\n      <td>3</td>\n      <td>lens4, lens5, lens8</td>\n      <td>Accessory</td>\n    </tr>\n    <tr>\n      <th>5</th>\n      <td>vacIN</td>\n      <td>NaN</td>\n      <td>Photoreceptor associated vacuolated neurons</td>\n      <td>Anterior vacuolated neurons with short axons a...</td>\n      <td>Lens1 extends farther along neuropil and makes...</td>\n      <td>2</td>\n      <td>lens1, lens2</td>\n      <td>Interneuron</td>\n    </tr>\n  </tbody>\n</table>\n</div>"
     },
     "execution_count": 14,
     "metadata": {},
     "output_type": "execute_result"
    }
   ],
   "source": [
    "# add fig 1 data \n",
    "basic_atts = dfs['basic_atts'][0].copy()\n",
    "basic_atts.columns = basic_atts.iloc[0, :]\n",
    "basic_atts.drop(basic_atts.index[0], axis=0, inplace=True)\n",
    "basic_atts.head()"
   ]
  },
  {
   "cell_type": "code",
   "execution_count": 23,
   "metadata": {},
   "outputs": [
    {
     "name": "stdout",
     "output_type": "stream",
     "text": [
      "An error occurred\n",
      "An error occurred\n",
      "An error occurred\n",
      "An error occurred\n",
      "An error occurred\n",
      "An error occurred\n",
      "An error occurred\n",
      "An error occurred\n",
      "An error occurred\n",
      "An error occurred\n",
      "An error occurred\n",
      "An error occurred\n",
      "An error occurred\n",
      "An error occurred\n",
      "An error occurred\n",
      "An error occurred\n",
      "An error occurred\n",
      "An error occurred\n",
      "An error occurred\n",
      "An error occurred\n",
      "An error occurred\n",
      "An error occurred\n",
      "An error occurred\n",
      "An error occurred\n",
      "An error occurred\n",
      "An error occurred\n",
      "An error occurred\n",
      "An error occurred\n",
      "An error occurred\n",
      "An error occurred\n",
      "An error occurred\n",
      "An error occurred\n",
      "An error occurred\n",
      "An error occurred\n",
      "An error occurred\n",
      "An error occurred\n",
      "An error occurred\n",
      "An error occurred\n",
      "An error occurred\n",
      "An error occurred\n",
      "An error occurred\n",
      "An error occurred\n",
      "An error occurred\n",
      "An error occurred\n",
      "An error occurred\n",
      "An error occurred\n",
      "An error occurred\n"
     ]
    },
    {
     "name": "stderr",
     "output_type": "stream",
     "text": [
      "/home/spencerloggia/anaconda3/envs/graspy/lib/python3.7/site-packages/pandas/core/frame.py:1490: FutureWarning: Using short name for 'orient' is deprecated. Only the options: ('dict', list, 'series', 'split', 'records', 'index') will be used in a future version. Use one of the above to silence this warning.\n",
      "  FutureWarning,\n"
     ]
    }
   ],
   "source": [
    "for n in graph.nodes(data=True):\n",
    "    nid = n[0]\n",
    "    try:\n",
    "        data = basic_atts.loc[basic_atts['Abbreviation'].apply(str_strip) == str_strip(n[1]['Cell Type'])]\n",
    "    except KeyError:\n",
    "        try:\n",
    "            data = basic_atts.loc[nid in basic_atts['Cell IDs']]\n",
    "        except KeyError:\n",
    "            continue\n",
    "    try:\n",
    "        data = data.to_dict('r')[0]\n",
    "        data.pop('Abbreviation')\n",
    "        data.pop('Cell Type')\n",
    "        data.pop('Number of cells')\n",
    "        data.pop('Cell IDs')\n",
    "        graph.add_node(nid, **data)\n",
    "    except:\n",
    "        print(\"An error occurred\")\n",
    "        continue"
   ]
  },
  {
   "cell_type": "markdown",
   "metadata": {},
   "source": [
    "put in json spec"
   ]
  },
  {
   "cell_type": "code",
   "execution_count": 24,
   "metadata": {
    "pycharm": {
     "name": "#%%\n"
    }
   },
   "outputs": [],
   "source": [
    "from graph import GraphIO\n",
    "GraphIO.dump(graph, './ciona.json')\n"
   ]
  },
  {
   "cell_type": "code",
   "execution_count": 18,
   "metadata": {},
   "outputs": [],
   "source": []
  }
 ],
 "metadata": {
  "kernelspec": {
   "display_name": "Python 3",
   "language": "python",
   "name": "python3"
  },
  "language_info": {
   "codemirror_mode": {
    "name": "ipython",
    "version": 3
   },
   "file_extension": ".py",
   "mimetype": "text/x-python",
   "name": "python",
   "nbconvert_exporter": "python",
   "pygments_lexer": "ipython3",
   "version": "3.7.10"
  }
 },
 "nbformat": 4,
 "nbformat_minor": 1
}